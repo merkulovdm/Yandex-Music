{
 "cells": [
  {
   "cell_type": "markdown",
   "metadata": {
    "deletable": false,
    "editable": false,
    "id": "E0vqbgi9ay0H"
   },
   "source": [
    "# Яндекс Музыка"
   ]
  },
  {
   "cell_type": "markdown",
   "metadata": {
    "deletable": false,
    "editable": false,
    "id": "VUC88oWjTJw2"
   },
   "source": [
    "Сравнение Москвы и Петербурга окружено мифами. Например:\n",
    " * Москва — мегаполис, подчинённый жёсткому ритму рабочей недели;\n",
    " * Петербург — культурная столица, со своими вкусами.\n",
    "\n",
    "На данных Яндекс Музыки вы сравните поведение пользователей двух столиц.\n",
    "\n",
    "**Цель исследования** — проверьте три гипотезы:\n",
    "1. Активность пользователей зависит от дня недели. Причём в Москве и Петербурге это проявляется по-разному.\n",
    "2. В понедельник утром в Москве преобладают одни жанры, а в Петербурге — другие. Так же и вечером пятницы преобладают разные жанры — в зависимости от города.\n",
    "3. Москва и Петербург предпочитают разные жанры музыки. В Москве чаще слушают поп-музыку, в Петербурге — русский рэп.\n",
    "\n",
    "**Ход исследования**\n",
    "\n",
    "Данные о поведении пользователей вы получите из файла `yandex_music_project.csv`. О качестве данных ничего не известно. Поэтому перед проверкой гипотез понадобится обзор данных.\n",
    "\n",
    "Вы проверите данные на ошибки и оцените их влияние на исследование. Затем, на этапе предобработки вы поищете возможность исправить самые критичные ошибки данных.\n",
    "\n",
    "Таким образом, исследование пройдёт в три этапа:\n",
    " 1. Обзор данных.\n",
    " 2. Предобработка данных.\n",
    " 3. Проверка гипотез.\n",
    "\n"
   ]
  },
  {
   "cell_type": "markdown",
   "metadata": {
    "deletable": false,
    "editable": false,
    "id": "Ml1hmfXC_Zcs"
   },
   "source": [
    "## Обзор данных\n",
    "\n",
    "Составьте первое представление о данных Яндекс Музыки.\n",
    "\n",
    "\n"
   ]
  },
  {
   "cell_type": "markdown",
   "metadata": {
    "deletable": false,
    "editable": false,
    "id": "57eAOGIz_Zcs",
    "tags": [
     "start_task"
    ]
   },
   "source": [
    "**Задание 1**"
   ]
  },
  {
   "cell_type": "code",
   "execution_count": 1,
   "metadata": {
    "deletable": false,
    "id": "AXN7PHPN_Zcs"
   },
   "outputs": [],
   "source": [
    "import pandas as pd"
   ]
  },
  {
   "cell_type": "markdown",
   "metadata": {
    "deletable": false,
    "editable": false,
    "id": "SG23P8tt_Zcs",
    "tags": [
     "start_task"
    ]
   },
   "source": [
    "**Задание 2**"
   ]
  },
  {
   "cell_type": "code",
   "execution_count": 2,
   "metadata": {
    "deletable": false,
    "id": "fFVu7vqh_Zct"
   },
   "outputs": [],
   "source": [
    "df = pd.read_csv('/datasets/yandex_music_project.csv')"
   ]
  },
  {
   "cell_type": "markdown",
   "metadata": {
    "deletable": false,
    "editable": false,
    "id": "rDoOMd3uTqnZ",
    "tags": [
     "start_task"
    ]
   },
   "source": [
    "**Задание 3**"
   ]
  },
  {
   "cell_type": "code",
   "execution_count": 3,
   "metadata": {
    "deletable": false,
    "id": "oWTVX3gW_Zct"
   },
   "outputs": [
    {
     "data": {
      "text/html": [
       "<div>\n",
       "<style scoped>\n",
       "    .dataframe tbody tr th:only-of-type {\n",
       "        vertical-align: middle;\n",
       "    }\n",
       "\n",
       "    .dataframe tbody tr th {\n",
       "        vertical-align: top;\n",
       "    }\n",
       "\n",
       "    .dataframe thead th {\n",
       "        text-align: right;\n",
       "    }\n",
       "</style>\n",
       "<table border=\"1\" class=\"dataframe\">\n",
       "  <thead>\n",
       "    <tr style=\"text-align: right;\">\n",
       "      <th></th>\n",
       "      <th>userID</th>\n",
       "      <th>Track</th>\n",
       "      <th>artist</th>\n",
       "      <th>genre</th>\n",
       "      <th>City</th>\n",
       "      <th>time</th>\n",
       "      <th>Day</th>\n",
       "    </tr>\n",
       "  </thead>\n",
       "  <tbody>\n",
       "    <tr>\n",
       "      <th>0</th>\n",
       "      <td>FFB692EC</td>\n",
       "      <td>Kamigata To Boots</td>\n",
       "      <td>The Mass Missile</td>\n",
       "      <td>rock</td>\n",
       "      <td>Saint-Petersburg</td>\n",
       "      <td>20:28:33</td>\n",
       "      <td>Wednesday</td>\n",
       "    </tr>\n",
       "    <tr>\n",
       "      <th>1</th>\n",
       "      <td>55204538</td>\n",
       "      <td>Delayed Because of Accident</td>\n",
       "      <td>Andreas Rönnberg</td>\n",
       "      <td>rock</td>\n",
       "      <td>Moscow</td>\n",
       "      <td>14:07:09</td>\n",
       "      <td>Friday</td>\n",
       "    </tr>\n",
       "    <tr>\n",
       "      <th>2</th>\n",
       "      <td>20EC38</td>\n",
       "      <td>Funiculì funiculà</td>\n",
       "      <td>Mario Lanza</td>\n",
       "      <td>pop</td>\n",
       "      <td>Saint-Petersburg</td>\n",
       "      <td>20:58:07</td>\n",
       "      <td>Wednesday</td>\n",
       "    </tr>\n",
       "    <tr>\n",
       "      <th>3</th>\n",
       "      <td>A3DD03C9</td>\n",
       "      <td>Dragons in the Sunset</td>\n",
       "      <td>Fire + Ice</td>\n",
       "      <td>folk</td>\n",
       "      <td>Saint-Petersburg</td>\n",
       "      <td>08:37:09</td>\n",
       "      <td>Monday</td>\n",
       "    </tr>\n",
       "    <tr>\n",
       "      <th>4</th>\n",
       "      <td>E2DC1FAE</td>\n",
       "      <td>Soul People</td>\n",
       "      <td>Space Echo</td>\n",
       "      <td>dance</td>\n",
       "      <td>Moscow</td>\n",
       "      <td>08:34:34</td>\n",
       "      <td>Monday</td>\n",
       "    </tr>\n",
       "    <tr>\n",
       "      <th>5</th>\n",
       "      <td>842029A1</td>\n",
       "      <td>Преданная</td>\n",
       "      <td>IMPERVTOR</td>\n",
       "      <td>rusrap</td>\n",
       "      <td>Saint-Petersburg</td>\n",
       "      <td>13:09:41</td>\n",
       "      <td>Friday</td>\n",
       "    </tr>\n",
       "    <tr>\n",
       "      <th>6</th>\n",
       "      <td>4CB90AA5</td>\n",
       "      <td>True</td>\n",
       "      <td>Roman Messer</td>\n",
       "      <td>dance</td>\n",
       "      <td>Moscow</td>\n",
       "      <td>13:00:07</td>\n",
       "      <td>Wednesday</td>\n",
       "    </tr>\n",
       "    <tr>\n",
       "      <th>7</th>\n",
       "      <td>F03E1C1F</td>\n",
       "      <td>Feeling This Way</td>\n",
       "      <td>Polina Griffith</td>\n",
       "      <td>dance</td>\n",
       "      <td>Moscow</td>\n",
       "      <td>20:47:49</td>\n",
       "      <td>Wednesday</td>\n",
       "    </tr>\n",
       "    <tr>\n",
       "      <th>8</th>\n",
       "      <td>8FA1D3BE</td>\n",
       "      <td>И вновь продолжается бой</td>\n",
       "      <td>NaN</td>\n",
       "      <td>ruspop</td>\n",
       "      <td>Moscow</td>\n",
       "      <td>09:17:40</td>\n",
       "      <td>Friday</td>\n",
       "    </tr>\n",
       "    <tr>\n",
       "      <th>9</th>\n",
       "      <td>E772D5C0</td>\n",
       "      <td>Pessimist</td>\n",
       "      <td>NaN</td>\n",
       "      <td>dance</td>\n",
       "      <td>Saint-Petersburg</td>\n",
       "      <td>21:20:49</td>\n",
       "      <td>Wednesday</td>\n",
       "    </tr>\n",
       "  </tbody>\n",
       "</table>\n",
       "</div>"
      ],
      "text/plain": [
       "     userID                        Track            artist   genre  \\\n",
       "0  FFB692EC            Kamigata To Boots  The Mass Missile    rock   \n",
       "1  55204538  Delayed Because of Accident  Andreas Rönnberg    rock   \n",
       "2    20EC38            Funiculì funiculà       Mario Lanza     pop   \n",
       "3  A3DD03C9        Dragons in the Sunset        Fire + Ice    folk   \n",
       "4  E2DC1FAE                  Soul People        Space Echo   dance   \n",
       "5  842029A1                    Преданная         IMPERVTOR  rusrap   \n",
       "6  4CB90AA5                         True      Roman Messer   dance   \n",
       "7  F03E1C1F             Feeling This Way   Polina Griffith   dance   \n",
       "8  8FA1D3BE     И вновь продолжается бой               NaN  ruspop   \n",
       "9  E772D5C0                    Pessimist               NaN   dance   \n",
       "\n",
       "             City        time        Day  \n",
       "0  Saint-Petersburg  20:28:33  Wednesday  \n",
       "1            Moscow  14:07:09     Friday  \n",
       "2  Saint-Petersburg  20:58:07  Wednesday  \n",
       "3  Saint-Petersburg  08:37:09     Monday  \n",
       "4            Moscow  08:34:34     Monday  \n",
       "5  Saint-Petersburg  13:09:41     Friday  \n",
       "6            Moscow  13:00:07  Wednesday  \n",
       "7            Moscow  20:47:49  Wednesday  \n",
       "8            Moscow  09:17:40     Friday  \n",
       "9  Saint-Petersburg  21:20:49  Wednesday  "
      ]
     },
     "execution_count": 3,
     "metadata": {},
     "output_type": "execute_result"
    }
   ],
   "source": [
    "df.head(10)"
   ]
  },
  {
   "cell_type": "markdown",
   "metadata": {
    "deletable": false,
    "editable": false,
    "id": "EO73Kwic_Zct",
    "tags": [
     "start_task"
    ]
   },
   "source": [
    "**Задание 4**"
   ]
  },
  {
   "cell_type": "code",
   "execution_count": 4,
   "metadata": {
    "deletable": false,
    "id": "DSf2kIb-_Zct"
   },
   "outputs": [
    {
     "name": "stdout",
     "output_type": "stream",
     "text": [
      "<class 'pandas.core.frame.DataFrame'>\n",
      "RangeIndex: 65079 entries, 0 to 65078\n",
      "Data columns (total 7 columns):\n",
      " #   Column    Non-Null Count  Dtype \n",
      "---  ------    --------------  ----- \n",
      " 0     userID  65079 non-null  object\n",
      " 1   Track     63848 non-null  object\n",
      " 2   artist    57876 non-null  object\n",
      " 3   genre     63881 non-null  object\n",
      " 4     City    65079 non-null  object\n",
      " 5   time      65079 non-null  object\n",
      " 6   Day       65079 non-null  object\n",
      "dtypes: object(7)\n",
      "memory usage: 3.5+ MB\n"
     ]
    }
   ],
   "source": [
    "df.info()"
   ]
  },
  {
   "cell_type": "markdown",
   "metadata": {
    "deletable": false,
    "editable": false,
    "id": "TaQ2Iwbr_Zct"
   },
   "source": [
    "Количество значений в столбцах различается. Значит, в данных есть пропущенные значения."
   ]
  },
  {
   "cell_type": "markdown",
   "metadata": {
    "deletable": false,
    "editable": false,
    "id": "4P0UCWzswgEm",
    "tags": [
     "start_task"
    ]
   },
   "source": [
    "**Задание 5**"
   ]
  },
  {
   "cell_type": "code",
   "execution_count": 39,
   "metadata": {
    "id": "c137-ZstwgEm"
   },
   "outputs": [],
   "source": [
    "# Шрифт не \"змейкой\" "
   ]
  },
  {
   "cell_type": "markdown",
   "metadata": {
    "deletable": false,
    "editable": false,
    "id": "MCB6-dXG_Zct"
   },
   "source": [
    "**Выводы**\n",
    "\n",
    "В каждой строке таблицы — данные о прослушанном треке. Часть колонок описывает саму композицию: название, исполнителя и жанр. Остальные данные рассказывают о пользователе: из какого он города, когда он слушал музыку.\n",
    "\n",
    "Предварительно можно утверждать, что данных достаточно для проверки гипотез. Но встречаются пропуски в данных, а в названиях колонок — расхождения с хорошим стилем.\n",
    "\n",
    "Чтобы двигаться дальше, нужно устранить проблемы в данных."
   ]
  },
  {
   "cell_type": "markdown",
   "metadata": {
    "deletable": false,
    "editable": false,
    "id": "SjYF6Ub9_Zct"
   },
   "source": [
    "## Предобработка данных"
   ]
  },
  {
   "cell_type": "markdown",
   "metadata": {
    "deletable": false,
    "editable": false,
    "id": "dIaKXr29_Zct",
    "tags": [
     "start_task"
    ]
   },
   "source": [
    "### Переименование столбцов\n",
    "\n",
    "**Задание 6**"
   ]
  },
  {
   "cell_type": "code",
   "execution_count": 6,
   "metadata": {
    "deletable": false,
    "id": "oKOTdF_Q_Zct"
   },
   "outputs": [
    {
     "name": "stdout",
     "output_type": "stream",
     "text": [
      "Index(['  userID', 'Track', 'artist', 'genre', '  City  ', 'time', 'Day'], dtype='object')\n"
     ]
    }
   ],
   "source": [
    "print(df.columns)"
   ]
  },
  {
   "cell_type": "markdown",
   "metadata": {
    "deletable": false,
    "editable": false,
    "id": "zj5534cv_Zct",
    "tags": [
     "start_task"
    ]
   },
   "source": [
    "**Задание 7**"
   ]
  },
  {
   "cell_type": "code",
   "execution_count": 7,
   "metadata": {
    "deletable": false,
    "id": "ISlFqs5y_Zct"
   },
   "outputs": [],
   "source": [
    "df = df.rename(columns={\n",
    "    \"  userID\": \"user_id\",\n",
    "    \"Track\": \"track\",\n",
    "    \"  City  \": \"city\",\n",
    "    \"Day\": \"day\",\n",
    "})"
   ]
  },
  {
   "cell_type": "markdown",
   "metadata": {
    "deletable": false,
    "editable": false,
    "id": "1dqbh00J_Zct",
    "tags": [
     "start_task"
    ]
   },
   "source": [
    "**Задание 8**"
   ]
  },
  {
   "cell_type": "code",
   "execution_count": 8,
   "metadata": {
    "deletable": false,
    "id": "d4NOAmTW_Zct"
   },
   "outputs": [
    {
     "name": "stdout",
     "output_type": "stream",
     "text": [
      "Index(['user_id', 'track', 'artist', 'genre', 'city', 'time', 'day'], dtype='object')\n"
     ]
    }
   ],
   "source": [
    "print(df.columns)"
   ]
  },
  {
   "cell_type": "markdown",
   "metadata": {
    "deletable": false,
    "editable": false,
    "id": "5ISfbcfY_Zct",
    "tags": [
     "start_task"
    ]
   },
   "source": [
    "### Обработка пропущенных значений\n",
    "\n",
    "**Задание 9**"
   ]
  },
  {
   "cell_type": "code",
   "execution_count": 9,
   "metadata": {
    "deletable": false,
    "id": "RskX29qr_Zct"
   },
   "outputs": [
    {
     "data": {
      "text/plain": [
       "user_id       0\n",
       "track      1231\n",
       "artist     7203\n",
       "genre      1198\n",
       "city          0\n",
       "time          0\n",
       "day           0\n",
       "dtype: int64"
      ]
     },
     "execution_count": 9,
     "metadata": {},
     "output_type": "execute_result"
    }
   ],
   "source": [
    "df.isna().sum()"
   ]
  },
  {
   "cell_type": "markdown",
   "metadata": {
    "deletable": false,
    "editable": false,
    "id": "fSv2laPA_Zct",
    "tags": [
     "start_task"
    ]
   },
   "source": [
    "**Задание 10**"
   ]
  },
  {
   "cell_type": "code",
   "execution_count": 10,
   "metadata": {
    "deletable": false,
    "id": "KplB5qWs_Zct"
   },
   "outputs": [],
   "source": [
    "columns_to_replace = ['track', 'artist', 'genre']\n",
    "for column in columns_to_replace:\n",
    "    df[column] = df[column].fillna('unknown')\n",
    "    \n"
   ]
  },
  {
   "cell_type": "markdown",
   "metadata": {
    "deletable": false,
    "editable": false,
    "id": "Ilsm-MZo_Zct",
    "tags": [
     "start_task"
    ]
   },
   "source": [
    "**Задание 11**"
   ]
  },
  {
   "cell_type": "code",
   "execution_count": 11,
   "metadata": {
    "deletable": false,
    "id": "Tq4nYRX4_Zct"
   },
   "outputs": [
    {
     "data": {
      "text/plain": [
       "user_id    0\n",
       "track      0\n",
       "artist     0\n",
       "genre      0\n",
       "city       0\n",
       "time       0\n",
       "day        0\n",
       "dtype: int64"
      ]
     },
     "execution_count": 11,
     "metadata": {},
     "output_type": "execute_result"
    }
   ],
   "source": [
    "df.isna().sum()"
   ]
  },
  {
   "cell_type": "markdown",
   "metadata": {
    "deletable": false,
    "editable": false,
    "id": "BWKRtBJ3_Zct",
    "tags": [
     "start_task"
    ]
   },
   "source": [
    "### Обработка дубликатов\n",
    "\n",
    "**Задание 12**"
   ]
  },
  {
   "cell_type": "code",
   "execution_count": 12,
   "metadata": {
    "deletable": false,
    "id": "36eES_S0_Zct"
   },
   "outputs": [
    {
     "data": {
      "text/plain": [
       "3826"
      ]
     },
     "execution_count": 12,
     "metadata": {},
     "output_type": "execute_result"
    }
   ],
   "source": [
    "df.duplicated().sum()"
   ]
  },
  {
   "cell_type": "markdown",
   "metadata": {
    "deletable": false,
    "editable": false,
    "id": "Ot25h6XR_Zct",
    "tags": [
     "start_task"
    ]
   },
   "source": [
    "**Задание 13**"
   ]
  },
  {
   "cell_type": "code",
   "execution_count": 13,
   "metadata": {
    "deletable": false,
    "id": "exFHq6tt_Zct"
   },
   "outputs": [],
   "source": [
    "df = df.drop_duplicates().reset_index(drop=True)"
   ]
  },
  {
   "cell_type": "markdown",
   "metadata": {
    "deletable": false,
    "editable": false,
    "id": "Im2YwBEG_Zct",
    "tags": [
     "start_task"
    ]
   },
   "source": [
    "**Задание 14**"
   ]
  },
  {
   "cell_type": "code",
   "execution_count": 14,
   "metadata": {
    "deletable": false,
    "id": "-8PuNWQ0_Zct"
   },
   "outputs": [
    {
     "data": {
      "text/plain": [
       "0"
      ]
     },
     "execution_count": 14,
     "metadata": {},
     "output_type": "execute_result"
    }
   ],
   "source": [
    "df.duplicated().sum()"
   ]
  },
  {
   "cell_type": "markdown",
   "metadata": {
    "deletable": false,
    "editable": false,
    "id": "eSjWwsOh_Zct",
    "tags": [
     "start_task"
    ]
   },
   "source": [
    "**Задание 15**"
   ]
  },
  {
   "cell_type": "code",
   "execution_count": 15,
   "metadata": {
    "deletable": false,
    "id": "JIUcqzZN_Zct"
   },
   "outputs": [
    {
     "data": {
      "text/plain": [
       "array(['acid', 'acoustic', 'action', 'adult', 'africa', 'afrikaans',\n",
       "       'alternative', 'alternativepunk', 'ambient', 'americana',\n",
       "       'animated', 'anime', 'arabesk', 'arabic', 'arena',\n",
       "       'argentinetango', 'art', 'audiobook', 'author', 'avantgarde',\n",
       "       'axé', 'baile', 'balkan', 'beats', 'bigroom', 'black', 'bluegrass',\n",
       "       'blues', 'bollywood', 'bossa', 'brazilian', 'breakbeat', 'breaks',\n",
       "       'broadway', 'cantautori', 'cantopop', 'canzone', 'caribbean',\n",
       "       'caucasian', 'celtic', 'chamber', 'chanson', 'children', 'chill',\n",
       "       'chinese', 'choral', 'christian', 'christmas', 'classical',\n",
       "       'classicmetal', 'club', 'colombian', 'comedy', 'conjazz',\n",
       "       'contemporary', 'country', 'cuban', 'dance', 'dancehall',\n",
       "       'dancepop', 'dark', 'death', 'deep', 'deutschrock', 'deutschspr',\n",
       "       'dirty', 'disco', 'dnb', 'documentary', 'downbeat', 'downtempo',\n",
       "       'drum', 'dub', 'dubstep', 'eastern', 'easy', 'electronic',\n",
       "       'electropop', 'emo', 'entehno', 'epicmetal', 'estrada', 'ethnic',\n",
       "       'eurofolk', 'european', 'experimental', 'extrememetal', 'fado',\n",
       "       'fairytail', 'film', 'fitness', 'flamenco', 'folk', 'folklore',\n",
       "       'folkmetal', 'folkrock', 'folktronica', 'forró', 'frankreich',\n",
       "       'französisch', 'french', 'funk', 'future', 'gangsta', 'garage',\n",
       "       'german', 'ghazal', 'gitarre', 'glitch', 'gospel', 'gothic',\n",
       "       'grime', 'grunge', 'gypsy', 'handsup', \"hard'n'heavy\", 'hardcore',\n",
       "       'hardstyle', 'hardtechno', 'hip', 'hip-hop', 'hiphop',\n",
       "       'historisch', 'holiday', 'hop', 'horror', 'house', 'hymn', 'idm',\n",
       "       'independent', 'indian', 'indie', 'indipop', 'industrial',\n",
       "       'inspirational', 'instrumental', 'international', 'irish', 'jam',\n",
       "       'japanese', 'jazz', 'jewish', 'jpop', 'jungle', 'k-pop',\n",
       "       'karadeniz', 'karaoke', 'kayokyoku', 'korean', 'laiko', 'latin',\n",
       "       'latino', 'leftfield', 'local', 'lounge', 'loungeelectronic',\n",
       "       'lovers', 'malaysian', 'mandopop', 'marschmusik', 'meditative',\n",
       "       'mediterranean', 'melodic', 'metal', 'metalcore', 'mexican',\n",
       "       'middle', 'minimal', 'miscellaneous', 'modern', 'mood', 'mpb',\n",
       "       'muslim', 'native', 'neoklassik', 'neue', 'new', 'newage',\n",
       "       'newwave', 'nu', 'nujazz', 'numetal', 'oceania', 'old', 'opera',\n",
       "       'orchestral', 'other', 'piano', 'podcasts', 'pop', 'popdance',\n",
       "       'popelectronic', 'popeurodance', 'poprussian', 'post',\n",
       "       'posthardcore', 'postrock', 'power', 'progmetal', 'progressive',\n",
       "       'psychedelic', 'punjabi', 'punk', 'quebecois', 'ragga', 'ram',\n",
       "       'rancheras', 'rap', 'rave', 'reggae', 'reggaeton', 'regional',\n",
       "       'relax', 'religious', 'retro', 'rhythm', 'rnb', 'rnr', 'rock',\n",
       "       'rockabilly', 'rockalternative', 'rockindie', 'rockother',\n",
       "       'romance', 'roots', 'ruspop', 'rusrap', 'rusrock', 'russian',\n",
       "       'salsa', 'samba', 'scenic', 'schlager', 'self', 'sertanejo',\n",
       "       'shanson', 'shoegazing', 'showtunes', 'singer', 'ska', 'skarock',\n",
       "       'slow', 'smooth', 'soft', 'soul', 'soulful', 'sound', 'soundtrack',\n",
       "       'southern', 'specialty', 'speech', 'spiritual', 'sport',\n",
       "       'stonerrock', 'surf', 'swing', 'synthpop', 'synthrock',\n",
       "       'sängerportrait', 'tango', 'tanzorchester', 'taraftar', 'tatar',\n",
       "       'tech', 'techno', 'teen', 'thrash', 'top', 'traditional',\n",
       "       'tradjazz', 'trance', 'tribal', 'trip', 'triphop', 'tropical',\n",
       "       'türk', 'türkçe', 'ukrrock', 'unknown', 'urban', 'uzbek',\n",
       "       'variété', 'vi', 'videogame', 'vocal', 'western', 'world',\n",
       "       'worldbeat', 'ïîï', 'электроника'], dtype=object)"
      ]
     },
     "execution_count": 15,
     "metadata": {},
     "output_type": "execute_result"
    }
   ],
   "source": [
    "df_sorted = df['genre'].sort_values()\n",
    "df_sorted.unique()"
   ]
  },
  {
   "cell_type": "markdown",
   "metadata": {
    "deletable": false,
    "editable": false,
    "id": "qej-Qmuo_Zct",
    "tags": [
     "start_task"
    ]
   },
   "source": [
    "**Задание 16**"
   ]
  },
  {
   "cell_type": "code",
   "execution_count": 16,
   "metadata": {
    "deletable": false,
    "id": "ErNDkmns_Zct"
   },
   "outputs": [],
   "source": [
    "df['genre'] = df['genre'].replace(['hip', 'hop', 'hip-hop'], 'hiphop')"
   ]
  },
  {
   "cell_type": "markdown",
   "metadata": {
    "deletable": false,
    "editable": false,
    "id": "zQKF16_RG15m",
    "tags": [
     "start_task"
    ]
   },
   "source": [
    "**Задание 17**"
   ]
  },
  {
   "cell_type": "code",
   "execution_count": 17,
   "metadata": {
    "deletable": false,
    "id": "wvixALnFG15m"
   },
   "outputs": [
    {
     "data": {
      "text/plain": [
       "array(['acid', 'acoustic', 'action', 'adult', 'africa', 'afrikaans',\n",
       "       'alternative', 'alternativepunk', 'ambient', 'americana',\n",
       "       'animated', 'anime', 'arabesk', 'arabic', 'arena',\n",
       "       'argentinetango', 'art', 'audiobook', 'author', 'avantgarde',\n",
       "       'axé', 'baile', 'balkan', 'beats', 'bigroom', 'black', 'bluegrass',\n",
       "       'blues', 'bollywood', 'bossa', 'brazilian', 'breakbeat', 'breaks',\n",
       "       'broadway', 'cantautori', 'cantopop', 'canzone', 'caribbean',\n",
       "       'caucasian', 'celtic', 'chamber', 'chanson', 'children', 'chill',\n",
       "       'chinese', 'choral', 'christian', 'christmas', 'classical',\n",
       "       'classicmetal', 'club', 'colombian', 'comedy', 'conjazz',\n",
       "       'contemporary', 'country', 'cuban', 'dance', 'dancehall',\n",
       "       'dancepop', 'dark', 'death', 'deep', 'deutschrock', 'deutschspr',\n",
       "       'dirty', 'disco', 'dnb', 'documentary', 'downbeat', 'downtempo',\n",
       "       'drum', 'dub', 'dubstep', 'eastern', 'easy', 'electronic',\n",
       "       'electropop', 'emo', 'entehno', 'epicmetal', 'estrada', 'ethnic',\n",
       "       'eurofolk', 'european', 'experimental', 'extrememetal', 'fado',\n",
       "       'fairytail', 'film', 'fitness', 'flamenco', 'folk', 'folklore',\n",
       "       'folkmetal', 'folkrock', 'folktronica', 'forró', 'frankreich',\n",
       "       'französisch', 'french', 'funk', 'future', 'gangsta', 'garage',\n",
       "       'german', 'ghazal', 'gitarre', 'glitch', 'gospel', 'gothic',\n",
       "       'grime', 'grunge', 'gypsy', 'handsup', \"hard'n'heavy\", 'hardcore',\n",
       "       'hardstyle', 'hardtechno', 'hiphop', 'historisch', 'holiday',\n",
       "       'horror', 'house', 'hymn', 'idm', 'independent', 'indian', 'indie',\n",
       "       'indipop', 'industrial', 'inspirational', 'instrumental',\n",
       "       'international', 'irish', 'jam', 'japanese', 'jazz', 'jewish',\n",
       "       'jpop', 'jungle', 'k-pop', 'karadeniz', 'karaoke', 'kayokyoku',\n",
       "       'korean', 'laiko', 'latin', 'latino', 'leftfield', 'local',\n",
       "       'lounge', 'loungeelectronic', 'lovers', 'malaysian', 'mandopop',\n",
       "       'marschmusik', 'meditative', 'mediterranean', 'melodic', 'metal',\n",
       "       'metalcore', 'mexican', 'middle', 'minimal', 'miscellaneous',\n",
       "       'modern', 'mood', 'mpb', 'muslim', 'native', 'neoklassik', 'neue',\n",
       "       'new', 'newage', 'newwave', 'nu', 'nujazz', 'numetal', 'oceania',\n",
       "       'old', 'opera', 'orchestral', 'other', 'piano', 'podcasts', 'pop',\n",
       "       'popdance', 'popelectronic', 'popeurodance', 'poprussian', 'post',\n",
       "       'posthardcore', 'postrock', 'power', 'progmetal', 'progressive',\n",
       "       'psychedelic', 'punjabi', 'punk', 'quebecois', 'ragga', 'ram',\n",
       "       'rancheras', 'rap', 'rave', 'reggae', 'reggaeton', 'regional',\n",
       "       'relax', 'religious', 'retro', 'rhythm', 'rnb', 'rnr', 'rock',\n",
       "       'rockabilly', 'rockalternative', 'rockindie', 'rockother',\n",
       "       'romance', 'roots', 'ruspop', 'rusrap', 'rusrock', 'russian',\n",
       "       'salsa', 'samba', 'scenic', 'schlager', 'self', 'sertanejo',\n",
       "       'shanson', 'shoegazing', 'showtunes', 'singer', 'ska', 'skarock',\n",
       "       'slow', 'smooth', 'soft', 'soul', 'soulful', 'sound', 'soundtrack',\n",
       "       'southern', 'specialty', 'speech', 'spiritual', 'sport',\n",
       "       'stonerrock', 'surf', 'swing', 'synthpop', 'synthrock',\n",
       "       'sängerportrait', 'tango', 'tanzorchester', 'taraftar', 'tatar',\n",
       "       'tech', 'techno', 'teen', 'thrash', 'top', 'traditional',\n",
       "       'tradjazz', 'trance', 'tribal', 'trip', 'triphop', 'tropical',\n",
       "       'türk', 'türkçe', 'ukrrock', 'unknown', 'urban', 'uzbek',\n",
       "       'variété', 'vi', 'videogame', 'vocal', 'western', 'world',\n",
       "       'worldbeat', 'ïîï', 'электроника'], dtype=object)"
      ]
     },
     "execution_count": 17,
     "metadata": {},
     "output_type": "execute_result"
    }
   ],
   "source": [
    "df_sorted = df['genre'].sort_values()\n",
    "df_sorted.unique()"
   ]
  },
  {
   "cell_type": "markdown",
   "metadata": {
    "deletable": false,
    "editable": false,
    "id": "jz6a9-7HQUDd"
   },
   "source": [
    "**Выводы**\n",
    "\n",
    "Предобработка обнаружила три проблемы в данных:\n",
    "\n",
    "- нарушения в стиле заголовков,\n",
    "- пропущенные значения,\n",
    "- дубликаты — явные и неявные.\n",
    "\n",
    "Вы исправили заголовки, чтобы упростить работу с таблицей. Без дубликатов исследование станет более точным.\n",
    "\n",
    "Пропущенные значения вы заменили на `'unknown'`. Ещё предстоит увидеть, не повредят ли исследованию пропуски в колонке `genre`.\n",
    "\n",
    "Теперь можно перейти к проверке гипотез."
   ]
  },
  {
   "cell_type": "markdown",
   "metadata": {
    "deletable": false,
    "editable": false,
    "id": "WttZHXH0SqKk"
   },
   "source": [
    "## Проверка гипотез"
   ]
  },
  {
   "cell_type": "markdown",
   "metadata": {
    "deletable": false,
    "editable": false,
    "id": "Im936VVi_Zcu"
   },
   "source": [
    "### Сравнение поведения пользователей двух столиц"
   ]
  },
  {
   "cell_type": "markdown",
   "metadata": {
    "deletable": false,
    "editable": false,
    "id": "nwt_MuaL_Zcu"
   },
   "source": [
    "Первая гипотеза утверждает, что пользователи по-разному слушают музыку в Москве и Санкт-Петербурге. Проверим это предположение по данным о трёх днях недели — понедельнике, среде и пятнице. Для этого:\n",
    "\n",
    "* Разделим пользователей Москвы и Санкт-Петербурга.\n",
    "* Сравним, сколько треков послушала каждая группа пользователей в понедельник, среду и пятницу.\n"
   ]
  },
  {
   "cell_type": "markdown",
   "metadata": {
    "deletable": false,
    "id": "8Dw_YMmT_Zcu",
    "tags": [
     "start_task"
    ]
   },
   "source": [
    "**Задание 18**\n",
    "\n"
   ]
  },
  {
   "cell_type": "code",
   "execution_count": 18,
   "metadata": {
    "deletable": false,
    "id": "0_Qs96oh_Zcu"
   },
   "outputs": [
    {
     "data": {
      "text/plain": [
       "city\n",
       "Moscow              42741\n",
       "Saint-Petersburg    18512\n",
       "Name: track, dtype: int64"
      ]
     },
     "execution_count": 18,
     "metadata": {},
     "output_type": "execute_result"
    }
   ],
   "source": [
    "df.groupby('city')['track'].count()"
   ]
  },
  {
   "cell_type": "markdown",
   "metadata": {
    "id": "dzli3w8o_Zcu",
    "tags": [
     "start_task"
    ]
   },
   "source": [
    "**Задание 19**\n"
   ]
  },
  {
   "cell_type": "code",
   "execution_count": 19,
   "metadata": {
    "deletable": false,
    "id": "uZMKjiJz_Zcu"
   },
   "outputs": [
    {
     "data": {
      "text/plain": [
       "day\n",
       "Friday       21840\n",
       "Monday       21354\n",
       "Wednesday    18059\n",
       "Name: user_id, dtype: int64"
      ]
     },
     "execution_count": 19,
     "metadata": {},
     "output_type": "execute_result"
    }
   ],
   "source": [
    "df.groupby('day')['user_id'].count()"
   ]
  },
  {
   "cell_type": "markdown",
   "metadata": {
    "deletable": false,
    "editable": false,
    "id": "POzs8bGa_Zcu",
    "tags": [
     "start_task"
    ]
   },
   "source": [
    "**Задание 20**"
   ]
  },
  {
   "cell_type": "code",
   "execution_count": 20,
   "metadata": {
    "deletable": false,
    "id": "Nz3GdQB1_Zcu"
   },
   "outputs": [],
   "source": [
    "def number_tracks(day, city):\n",
    "    track_list = df[df['day'] == day]\n",
    "    track_list = track_list[df['city'] == city]\n",
    "    track_list_count = track_list['user_id'].count()\n",
    "    return track_list_count"
   ]
  },
  {
   "cell_type": "markdown",
   "metadata": {
    "deletable": false,
    "editable": false,
    "id": "ytf7xFrFJQ2r",
    "tags": [
     "start_task"
    ]
   },
   "source": [
    "**Задание 21**"
   ]
  },
  {
   "cell_type": "code",
   "execution_count": 21,
   "metadata": {
    "deletable": false,
    "id": "rJcRATNQ_Zcu"
   },
   "outputs": [
    {
     "name": "stdout",
     "output_type": "stream",
     "text": [
      "15740\n"
     ]
    },
    {
     "name": "stderr",
     "output_type": "stream",
     "text": [
      "/tmp/ipykernel_48/3063726440.py:3: UserWarning: Boolean Series key will be reindexed to match DataFrame index.\n",
      "  track_list = track_list[df['city'] == city]\n"
     ]
    }
   ],
   "source": [
    "print(number_tracks('Monday', 'Moscow'))"
   ]
  },
  {
   "cell_type": "code",
   "execution_count": 22,
   "metadata": {
    "deletable": false,
    "id": "hq_ncZ5T_Zcu"
   },
   "outputs": [
    {
     "name": "stdout",
     "output_type": "stream",
     "text": [
      "5614\n"
     ]
    },
    {
     "name": "stderr",
     "output_type": "stream",
     "text": [
      "/tmp/ipykernel_48/3063726440.py:3: UserWarning: Boolean Series key will be reindexed to match DataFrame index.\n",
      "  track_list = track_list[df['city'] == city]\n"
     ]
    }
   ],
   "source": [
    "print(number_tracks('Monday', 'Saint-Petersburg'))"
   ]
  },
  {
   "cell_type": "code",
   "execution_count": 23,
   "metadata": {
    "deletable": false,
    "id": "_NTy2VPU_Zcu"
   },
   "outputs": [
    {
     "name": "stdout",
     "output_type": "stream",
     "text": [
      "11056\n"
     ]
    },
    {
     "name": "stderr",
     "output_type": "stream",
     "text": [
      "/tmp/ipykernel_48/3063726440.py:3: UserWarning: Boolean Series key will be reindexed to match DataFrame index.\n",
      "  track_list = track_list[df['city'] == city]\n"
     ]
    }
   ],
   "source": [
    "print(number_tracks('Wednesday', 'Moscow'))"
   ]
  },
  {
   "cell_type": "code",
   "execution_count": 24,
   "metadata": {
    "deletable": false,
    "id": "j2y3TAwo_Zcu"
   },
   "outputs": [
    {
     "name": "stdout",
     "output_type": "stream",
     "text": [
      "7003\n"
     ]
    },
    {
     "name": "stderr",
     "output_type": "stream",
     "text": [
      "/tmp/ipykernel_48/3063726440.py:3: UserWarning: Boolean Series key will be reindexed to match DataFrame index.\n",
      "  track_list = track_list[df['city'] == city]\n"
     ]
    }
   ],
   "source": [
    "print(number_tracks('Wednesday', 'Saint-Petersburg'))"
   ]
  },
  {
   "cell_type": "code",
   "execution_count": 25,
   "metadata": {
    "deletable": false,
    "id": "vYDw5u_K_Zcu"
   },
   "outputs": [
    {
     "name": "stdout",
     "output_type": "stream",
     "text": [
      "15945\n"
     ]
    },
    {
     "name": "stderr",
     "output_type": "stream",
     "text": [
      "/tmp/ipykernel_48/3063726440.py:3: UserWarning: Boolean Series key will be reindexed to match DataFrame index.\n",
      "  track_list = track_list[df['city'] == city]\n"
     ]
    }
   ],
   "source": [
    "print(number_tracks('Friday', 'Moscow'))"
   ]
  },
  {
   "cell_type": "code",
   "execution_count": 26,
   "metadata": {
    "deletable": false,
    "id": "8_yzFtW3_Zcu"
   },
   "outputs": [
    {
     "name": "stdout",
     "output_type": "stream",
     "text": [
      "5895\n"
     ]
    },
    {
     "name": "stderr",
     "output_type": "stream",
     "text": [
      "/tmp/ipykernel_48/3063726440.py:3: UserWarning: Boolean Series key will be reindexed to match DataFrame index.\n",
      "  track_list = track_list[df['city'] == city]\n"
     ]
    }
   ],
   "source": [
    "print(number_tracks('Friday', 'Saint-Petersburg'))"
   ]
  },
  {
   "cell_type": "markdown",
   "metadata": {
    "deletable": false,
    "editable": false,
    "id": "7QXffbO-_Zcu",
    "tags": [
     "start_task"
    ]
   },
   "source": [
    "**Задание 22**"
   ]
  },
  {
   "cell_type": "code",
   "execution_count": 27,
   "metadata": {
    "deletable": false,
    "id": "APAcLpOr_Zcu"
   },
   "outputs": [
    {
     "name": "stdout",
     "output_type": "stream",
     "text": [
      "               city  monday  wednesday  friday\n",
      "0            Moscow   15740      11056   15945\n",
      "1  Saint-Petersburg    5614       7003    5895\n"
     ]
    }
   ],
   "source": [
    "info = df_number_tracks = pd.DataFrame(\n",
    "    data=[['Moscow', 15740, 11056, 15945], ['Saint-Petersburg', 5614, 7003, 5895]],\n",
    "    columns=['city', 'monday', 'wednesday', 'friday']\n",
    ")\n",
    "print(info)"
   ]
  },
  {
   "cell_type": "markdown",
   "metadata": {
    "deletable": false,
    "editable": false,
    "id": "-EgPIHYu_Zcu"
   },
   "source": [
    "**Выводы**\n",
    "\n",
    "Данные показывают разницу поведения пользователей:\n",
    "\n",
    "- В Москве пик прослушиваний приходится на понедельник и пятницу, а в среду заметен спад.\n",
    "- В Петербурге, наоборот, больше слушают музыку по средам. Активность в понедельник и пятницу здесь почти в равной мере уступает среде.\n",
    "\n",
    "Значит, данные говорят в пользу первой гипотезы."
   ]
  },
  {
   "cell_type": "markdown",
   "metadata": {
    "deletable": false,
    "editable": false,
    "id": "atZAxtq4_Zcu"
   },
   "source": [
    "### Музыка в начале и в конце недели"
   ]
  },
  {
   "cell_type": "markdown",
   "metadata": {
    "deletable": false,
    "editable": false,
    "id": "eXrQqXFH_Zcu"
   },
   "source": [
    "Согласно второй гипотезе, утром в понедельник в Москве преобладают одни жанры, а в Петербурге — другие. Так же и вечером пятницы преобладают разные жанры — в зависимости от города."
   ]
  },
  {
   "cell_type": "markdown",
   "metadata": {
    "deletable": false,
    "editable": false,
    "id": "S8UcW6Hw_Zcu",
    "tags": [
     "start_task"
    ]
   },
   "source": [
    "**Задание 23**"
   ]
  },
  {
   "cell_type": "code",
   "execution_count": 28,
   "metadata": {
    "deletable": false,
    "id": "qeaFfM_P_Zcu"
   },
   "outputs": [],
   "source": [
    "# получение таблицы moscow_general из тех строк таблицы df, для которых значение в столбце 'city' равно 'Moscow'\n",
    "moscow_general = df[df['city'] == 'Moscow']"
   ]
  },
  {
   "cell_type": "code",
   "execution_count": 29,
   "metadata": {
    "deletable": false,
    "id": "ORaVRKto_Zcu"
   },
   "outputs": [],
   "source": [
    "# получение таблицы spb_general из тех строк таблицы df, для которых значение в столбце 'city' равно 'Saint-Petersburg'\n",
    "spb_general = df[df['city'] == 'Saint-Petersburg'] "
   ]
  },
  {
   "cell_type": "markdown",
   "metadata": {
    "deletable": false,
    "editable": false,
    "id": "MEJV-CX2_Zcu",
    "tags": [
     "start_task"
    ]
   },
   "source": [
    "**Задание 24**"
   ]
  },
  {
   "cell_type": "code",
   "execution_count": 30,
   "metadata": {
    "deletable": false,
    "id": "laJT9BYl_Zcu"
   },
   "outputs": [],
   "source": [
    "def genre_weekday(df, day, time1, time2):\n",
    "    genre_df = df[df['day'] == day]\n",
    "    genre_df = genre_df[genre_df['time'] < time2]\n",
    "    genre_df = genre_df[genre_df['time'] > time1]\n",
    "    genre_df_grouped = genre_df.groupby('genre')['city'].count()\n",
    "    genre_df_sorted = genre_df_grouped.sort_values(ascending=False)\n",
    "    return genre_df_sorted[:10]"
   ]
  },
  {
   "cell_type": "markdown",
   "metadata": {
    "deletable": false,
    "editable": false,
    "id": "la2s2_PF_Zcu",
    "tags": [
     "start_task"
    ]
   },
   "source": [
    "**Задание 25**"
   ]
  },
  {
   "cell_type": "code",
   "execution_count": 31,
   "metadata": {
    "deletable": false,
    "id": "yz7itPUQ_Zcu"
   },
   "outputs": [
    {
     "data": {
      "text/plain": [
       "genre\n",
       "pop            781\n",
       "dance          549\n",
       "electronic     480\n",
       "rock           474\n",
       "hiphop         286\n",
       "ruspop         186\n",
       "world          181\n",
       "rusrap         175\n",
       "alternative    164\n",
       "unknown        161\n",
       "Name: city, dtype: int64"
      ]
     },
     "execution_count": 31,
     "metadata": {},
     "output_type": "execute_result"
    }
   ],
   "source": [
    "genre_weekday(moscow_general, 'Monday', '07:00', '11:00')"
   ]
  },
  {
   "cell_type": "code",
   "execution_count": 32,
   "metadata": {
    "deletable": false,
    "id": "kwUcHPdy_Zcu"
   },
   "outputs": [
    {
     "data": {
      "text/plain": [
       "genre\n",
       "pop            218\n",
       "dance          182\n",
       "rock           162\n",
       "electronic     147\n",
       "hiphop          80\n",
       "ruspop          64\n",
       "alternative     58\n",
       "rusrap          55\n",
       "jazz            44\n",
       "classical       40\n",
       "Name: city, dtype: int64"
      ]
     },
     "execution_count": 32,
     "metadata": {},
     "output_type": "execute_result"
    }
   ],
   "source": [
    "genre_weekday(spb_general, 'Monday', '07:00', '11:00')"
   ]
  },
  {
   "cell_type": "code",
   "execution_count": 33,
   "metadata": {
    "deletable": false,
    "id": "EzXVRE1o_Zcu"
   },
   "outputs": [
    {
     "data": {
      "text/plain": [
       "genre\n",
       "pop            713\n",
       "rock           517\n",
       "dance          495\n",
       "electronic     482\n",
       "hiphop         273\n",
       "world          208\n",
       "ruspop         170\n",
       "alternative    163\n",
       "classical      163\n",
       "rusrap         142\n",
       "Name: city, dtype: int64"
      ]
     },
     "execution_count": 33,
     "metadata": {},
     "output_type": "execute_result"
    }
   ],
   "source": [
    "genre_weekday(moscow_general, 'Friday', '17:00', '23:00')"
   ]
  },
  {
   "cell_type": "code",
   "execution_count": 34,
   "metadata": {
    "deletable": false,
    "id": "JZaEKu5v_Zcu"
   },
   "outputs": [
    {
     "data": {
      "text/plain": [
       "genre\n",
       "pop            256\n",
       "electronic     216\n",
       "rock           216\n",
       "dance          210\n",
       "hiphop          97\n",
       "alternative     63\n",
       "jazz            61\n",
       "classical       60\n",
       "rusrap          59\n",
       "world           54\n",
       "Name: city, dtype: int64"
      ]
     },
     "execution_count": 34,
     "metadata": {},
     "output_type": "execute_result"
    }
   ],
   "source": [
    "genre_weekday(spb_general, 'Friday', '17:00', '23:00')"
   ]
  },
  {
   "cell_type": "markdown",
   "metadata": {
    "deletable": false,
    "editable": false,
    "id": "wrCe4MNX_Zcu"
   },
   "source": [
    "**Выводы**\n",
    "\n",
    "Если сравнить топ-10 жанров в понедельник утром, можно сделать такие выводы:\n",
    "\n",
    "1. В Москве и Петербурге слушают похожую музыку. Единственное различие — в московский рейтинг вошёл жанр “world”, а в петербургский — джаз и классика.\n",
    "\n",
    "2. В Москве пропущенных значений оказалось так много, что значение `'unknown'` заняло десятое место среди самых популярных жанров. Значит, пропущенные значения занимают существенную долю в данных и угрожают достоверности исследования.\n",
    "\n",
    "Вечер пятницы не меняет эту картину. Некоторые жанры поднимаются немного выше, другие спускаются, но в целом топ-10 остаётся тем же самым.\n",
    "\n",
    "Таким образом, вторая гипотеза подтвердилась лишь частично:\n",
    "* Пользователи слушают похожую музыку в начале недели и в конце.\n",
    "* Разница между Москвой и Петербургом не слишком выражена. В Москве чаще слушают русскую популярную музыку, в Петербурге — джаз.\n",
    "\n",
    "Однако пропуски в данных ставят под сомнение этот результат. В Москве их так много, что рейтинг топ-10 мог бы выглядеть иначе, если бы не утерянные  данные о жанрах."
   ]
  },
  {
   "cell_type": "markdown",
   "metadata": {
    "deletable": false,
    "editable": false,
    "id": "JolODAqr_Zcu"
   },
   "source": [
    "### Жанровые предпочтения в Москве и Петербурге\n",
    "\n",
    "Гипотеза: Петербург — столица рэпа, музыку этого жанра там слушают чаще, чем в Москве.  А Москва — город контрастов, в котором, тем не менее, преобладает поп-музыка."
   ]
  },
  {
   "cell_type": "markdown",
   "metadata": {
    "deletable": false,
    "editable": false,
    "id": "DlegSvaT_Zcu",
    "tags": [
     "start_task"
    ]
   },
   "source": [
    "**Задание 26**"
   ]
  },
  {
   "cell_type": "code",
   "execution_count": 35,
   "metadata": {
    "deletable": false,
    "id": "r19lIPke_Zcu"
   },
   "outputs": [],
   "source": [
    "moscow_genres = moscow_general.groupby('genre')['genre'].count().sort_values(ascending=False)"
   ]
  },
  {
   "cell_type": "markdown",
   "metadata": {
    "deletable": false,
    "editable": false,
    "id": "6kMuomxTiIr8",
    "tags": [
     "start_task"
    ]
   },
   "source": [
    "**Задание 27**"
   ]
  },
  {
   "cell_type": "code",
   "execution_count": 36,
   "metadata": {
    "deletable": false,
    "id": "WhCSooF8_Zcv"
   },
   "outputs": [
    {
     "data": {
      "text/plain": [
       "genre\n",
       "pop            5892\n",
       "dance          4435\n",
       "rock           3965\n",
       "electronic     3786\n",
       "hiphop         2096\n",
       "classical      1616\n",
       "world          1432\n",
       "alternative    1379\n",
       "ruspop         1372\n",
       "rusrap         1161\n",
       "Name: genre, dtype: int64"
      ]
     },
     "execution_count": 36,
     "metadata": {},
     "output_type": "execute_result"
    }
   ],
   "source": [
    "moscow_genres.head(10)"
   ]
  },
  {
   "cell_type": "markdown",
   "metadata": {
    "deletable": false,
    "editable": false,
    "id": "cnPG2vnN_Zcv",
    "tags": [
     "start_task"
    ]
   },
   "source": [
    "**Задание 28**"
   ]
  },
  {
   "cell_type": "code",
   "execution_count": 37,
   "metadata": {
    "deletable": false,
    "id": "gluLIpE7_Zcv"
   },
   "outputs": [],
   "source": [
    "spb_genres = spb_general.groupby('genre')['genre'].count().sort_values(ascending=False)"
   ]
  },
  {
   "cell_type": "markdown",
   "metadata": {
    "deletable": false,
    "editable": false,
    "id": "5Doha_ODgyQ8",
    "tags": [
     "start_task"
    ]
   },
   "source": [
    "**Задание 29**"
   ]
  },
  {
   "cell_type": "code",
   "execution_count": 38,
   "metadata": {
    "deletable": false,
    "id": "uaGJHjVU_Zcv"
   },
   "outputs": [
    {
     "data": {
      "text/plain": [
       "genre\n",
       "pop            2431\n",
       "dance          1932\n",
       "rock           1879\n",
       "electronic     1736\n",
       "hiphop          960\n",
       "alternative     649\n",
       "classical       646\n",
       "rusrap          564\n",
       "ruspop          538\n",
       "world           515\n",
       "Name: genre, dtype: int64"
      ]
     },
     "execution_count": 38,
     "metadata": {},
     "output_type": "execute_result"
    }
   ],
   "source": [
    "spb_genres.head(10)"
   ]
  },
  {
   "cell_type": "markdown",
   "metadata": {
    "deletable": false,
    "editable": false,
    "id": "RY51YJYu_Zcv"
   },
   "source": [
    "**Выводы**"
   ]
  },
  {
   "cell_type": "markdown",
   "metadata": {
    "deletable": false,
    "editable": false,
    "id": "nVhnJEm__Zcv"
   },
   "source": [
    "Гипотеза частично подтвердилась:\n",
    "* Поп-музыка — самый популярный жанр в Москве, как и предполагала гипотеза. Более того, в топ-10 жанров встречается близкий жанр — русская популярная музыка.\n",
    "* Вопреки ожиданиям, рэп одинаково популярен в Москве и Петербурге.\n"
   ]
  },
  {
   "cell_type": "markdown",
   "metadata": {
    "deletable": false,
    "editable": false,
    "id": "ykKQ0N65_Zcv"
   },
   "source": [
    "## Итоги исследования"
   ]
  },
  {
   "cell_type": "markdown",
   "metadata": {
    "deletable": false,
    "editable": false,
    "id": "tjUwbHb3_Zcv"
   },
   "source": [
    "Вы проверили три гипотезы и установили:\n",
    "\n",
    "1. День недели по-разному влияет на активность пользователей в Москве и Петербурге.\n",
    "\n",
    "Первая гипотеза полностью подтвердилась.\n",
    "\n",
    "2. Музыкальные предпочтения не сильно меняются в течение недели — будь то Москва или Петербург. Небольшие различия заметны в начале недели, по понедельникам:\n",
    "* в Москве слушают музыку жанра “world”,\n",
    "* в Петербурге — джаз и классику.\n",
    "\n",
    "Таким образом, вторая гипотеза подтвердилась лишь отчасти. Этот результат мог оказаться иным, если бы не пропуски в данных.\n",
    "\n",
    "3. Во вкусах пользователей Москвы и Петербурга больше общего, чем различий. Вопреки ожиданиям, предпочтения жанров в Петербурге напоминают московские.\n",
    "\n",
    "Третья гипотеза не подтвердилась. Если различия в предпочтениях и существуют, на основной массе пользователей они незаметны.\n",
    "\n",
    "**На практике исследования содержат проверки статистических гипотез.**\n",
    "Из части данных одного сервиса невозможно сделать какие-то выводы о всех пользователях сервиса без методов статистики.\n",
    "Проверки статистических гипотез покажут, насколько они достоверны, исходя из имеющихся данных.\n",
    "С методами проверок гипотез вы ещё познакомитесь в следующих темах."
   ]
  },
  {
   "cell_type": "code",
   "execution_count": null,
   "metadata": {},
   "outputs": [],
   "source": []
  }
 ],
 "metadata": {
  "ExecuteTimeLog": [
   {
    "duration": 3,
    "start_time": "2024-01-03T18:50:03.438Z"
   },
   {
    "duration": 209,
    "start_time": "2024-01-03T18:50:03.443Z"
   },
   {
    "duration": 11,
    "start_time": "2024-01-03T18:50:03.654Z"
   },
   {
    "duration": 36,
    "start_time": "2024-01-03T18:50:03.666Z"
   },
   {
    "duration": 6,
    "start_time": "2024-01-03T18:50:03.704Z"
   },
   {
    "duration": 4,
    "start_time": "2024-01-03T18:50:03.712Z"
   },
   {
    "duration": 11,
    "start_time": "2024-01-03T18:50:03.717Z"
   },
   {
    "duration": 13,
    "start_time": "2024-01-03T18:50:03.730Z"
   },
   {
    "duration": 8,
    "start_time": "2024-01-03T18:50:03.745Z"
   },
   {
    "duration": 3,
    "start_time": "2024-01-03T18:50:03.755Z"
   },
   {
    "duration": 4,
    "start_time": "2024-01-03T18:50:03.761Z"
   },
   {
    "duration": 3,
    "start_time": "2024-01-03T18:50:03.766Z"
   },
   {
    "duration": 6,
    "start_time": "2024-01-03T18:50:03.771Z"
   },
   {
    "duration": 3,
    "start_time": "2024-01-03T18:50:03.778Z"
   },
   {
    "duration": 3,
    "start_time": "2024-01-03T18:50:03.783Z"
   },
   {
    "duration": 9,
    "start_time": "2024-01-03T18:50:03.788Z"
   },
   {
    "duration": 8,
    "start_time": "2024-01-03T18:50:03.798Z"
   },
   {
    "duration": 35,
    "start_time": "2024-01-03T18:50:03.807Z"
   },
   {
    "duration": 4,
    "start_time": "2024-01-03T18:50:03.844Z"
   },
   {
    "duration": 90,
    "start_time": "2024-01-03T18:50:03.849Z"
   },
   {
    "duration": 0,
    "start_time": "2024-01-03T18:50:03.941Z"
   },
   {
    "duration": 0,
    "start_time": "2024-01-03T18:50:03.942Z"
   },
   {
    "duration": 0,
    "start_time": "2024-01-03T18:50:03.943Z"
   },
   {
    "duration": 0,
    "start_time": "2024-01-03T18:50:03.944Z"
   },
   {
    "duration": 0,
    "start_time": "2024-01-03T18:50:03.945Z"
   },
   {
    "duration": 0,
    "start_time": "2024-01-03T18:50:03.946Z"
   },
   {
    "duration": 0,
    "start_time": "2024-01-03T18:50:03.947Z"
   },
   {
    "duration": 0,
    "start_time": "2024-01-03T18:50:03.948Z"
   },
   {
    "duration": 0,
    "start_time": "2024-01-03T18:50:03.949Z"
   },
   {
    "duration": 0,
    "start_time": "2024-01-03T18:50:03.950Z"
   },
   {
    "duration": 0,
    "start_time": "2024-01-03T18:50:03.951Z"
   },
   {
    "duration": 0,
    "start_time": "2024-01-03T18:50:03.952Z"
   },
   {
    "duration": 0,
    "start_time": "2024-01-03T18:50:03.953Z"
   },
   {
    "duration": 0,
    "start_time": "2024-01-03T18:50:03.954Z"
   },
   {
    "duration": 0,
    "start_time": "2024-01-03T18:50:03.955Z"
   },
   {
    "duration": 0,
    "start_time": "2024-01-03T18:50:03.956Z"
   },
   {
    "duration": 0,
    "start_time": "2024-01-03T18:50:03.957Z"
   },
   {
    "duration": 0,
    "start_time": "2024-01-03T18:50:03.958Z"
   },
   {
    "duration": 355,
    "start_time": "2024-01-03T18:50:29.189Z"
   },
   {
    "duration": 175,
    "start_time": "2024-01-03T18:50:29.546Z"
   },
   {
    "duration": 22,
    "start_time": "2024-01-03T18:50:29.722Z"
   },
   {
    "duration": 46,
    "start_time": "2024-01-03T18:50:29.746Z"
   },
   {
    "duration": 8,
    "start_time": "2024-01-03T18:50:29.794Z"
   },
   {
    "duration": 7,
    "start_time": "2024-01-03T18:50:29.804Z"
   },
   {
    "duration": 30,
    "start_time": "2024-01-03T18:50:29.813Z"
   },
   {
    "duration": 2,
    "start_time": "2024-01-03T18:50:29.845Z"
   },
   {
    "duration": 3,
    "start_time": "2024-01-03T18:50:29.849Z"
   },
   {
    "duration": 2,
    "start_time": "2024-01-03T18:50:29.855Z"
   },
   {
    "duration": 2,
    "start_time": "2024-01-03T18:50:29.859Z"
   },
   {
    "duration": 4,
    "start_time": "2024-01-03T18:50:29.863Z"
   },
   {
    "duration": 3,
    "start_time": "2024-01-03T18:50:29.868Z"
   },
   {
    "duration": 3,
    "start_time": "2024-01-03T18:50:29.873Z"
   },
   {
    "duration": 2,
    "start_time": "2024-01-03T18:50:29.878Z"
   },
   {
    "duration": 3,
    "start_time": "2024-01-03T18:50:29.882Z"
   },
   {
    "duration": 3,
    "start_time": "2024-01-03T18:50:29.886Z"
   },
   {
    "duration": 4,
    "start_time": "2024-01-03T18:50:29.890Z"
   },
   {
    "duration": 51,
    "start_time": "2024-01-03T18:50:29.895Z"
   },
   {
    "duration": 83,
    "start_time": "2024-01-03T18:50:29.948Z"
   },
   {
    "duration": 1,
    "start_time": "2024-01-03T18:50:30.034Z"
   },
   {
    "duration": 0,
    "start_time": "2024-01-03T18:50:30.036Z"
   },
   {
    "duration": 0,
    "start_time": "2024-01-03T18:50:30.036Z"
   },
   {
    "duration": 0,
    "start_time": "2024-01-03T18:50:30.038Z"
   },
   {
    "duration": 0,
    "start_time": "2024-01-03T18:50:30.039Z"
   },
   {
    "duration": 0,
    "start_time": "2024-01-03T18:50:30.041Z"
   },
   {
    "duration": 0,
    "start_time": "2024-01-03T18:50:30.042Z"
   },
   {
    "duration": 0,
    "start_time": "2024-01-03T18:50:30.043Z"
   },
   {
    "duration": 0,
    "start_time": "2024-01-03T18:50:30.045Z"
   },
   {
    "duration": 0,
    "start_time": "2024-01-03T18:50:30.046Z"
   },
   {
    "duration": 0,
    "start_time": "2024-01-03T18:50:30.047Z"
   },
   {
    "duration": 0,
    "start_time": "2024-01-03T18:50:30.049Z"
   },
   {
    "duration": 0,
    "start_time": "2024-01-03T18:50:30.050Z"
   },
   {
    "duration": 0,
    "start_time": "2024-01-03T18:50:30.052Z"
   },
   {
    "duration": 0,
    "start_time": "2024-01-03T18:50:30.053Z"
   },
   {
    "duration": 0,
    "start_time": "2024-01-03T18:50:30.054Z"
   },
   {
    "duration": 0,
    "start_time": "2024-01-03T18:50:30.056Z"
   },
   {
    "duration": 0,
    "start_time": "2024-01-03T18:50:30.057Z"
   },
   {
    "duration": 71,
    "start_time": "2024-01-04T17:53:35.101Z"
   },
   {
    "duration": 68,
    "start_time": "2024-01-04T17:53:37.760Z"
   },
   {
    "duration": 52,
    "start_time": "2024-01-05T09:03:31.693Z"
   },
   {
    "duration": 7,
    "start_time": "2024-01-05T09:04:22.941Z"
   },
   {
    "duration": 7,
    "start_time": "2024-01-05T09:04:28.893Z"
   },
   {
    "duration": 6,
    "start_time": "2024-01-05T09:08:49.679Z"
   },
   {
    "duration": 6,
    "start_time": "2024-01-05T09:09:02.053Z"
   },
   {
    "duration": 7,
    "start_time": "2024-01-05T09:09:13.485Z"
   },
   {
    "duration": 7,
    "start_time": "2024-01-05T09:09:17.232Z"
   },
   {
    "duration": 6,
    "start_time": "2024-01-05T09:09:20.319Z"
   },
   {
    "duration": 5,
    "start_time": "2024-01-05T09:09:24.067Z"
   },
   {
    "duration": 7,
    "start_time": "2024-01-05T09:09:31.738Z"
   },
   {
    "duration": 6,
    "start_time": "2024-01-05T09:17:42.175Z"
   },
   {
    "duration": 417,
    "start_time": "2024-01-05T09:17:50.452Z"
   },
   {
    "duration": 2,
    "start_time": "2024-01-05T09:17:53.094Z"
   },
   {
    "duration": 28,
    "start_time": "2024-01-05T09:18:13.617Z"
   },
   {
    "duration": 8,
    "start_time": "2024-01-05T09:18:19.795Z"
   },
   {
    "duration": 3,
    "start_time": "2024-01-05T09:18:55.167Z"
   },
   {
    "duration": 3,
    "start_time": "2024-01-05T09:18:59.018Z"
   },
   {
    "duration": 6,
    "start_time": "2024-01-05T09:19:58.114Z"
   },
   {
    "duration": 8,
    "start_time": "2024-01-05T09:20:23.297Z"
   },
   {
    "duration": 6,
    "start_time": "2024-01-05T09:20:44.033Z"
   },
   {
    "duration": 7,
    "start_time": "2024-01-05T09:20:58.472Z"
   },
   {
    "duration": 7,
    "start_time": "2024-01-05T09:21:08.594Z"
   },
   {
    "duration": 8,
    "start_time": "2024-01-05T09:21:37.825Z"
   },
   {
    "duration": 450,
    "start_time": "2024-01-05T09:23:07.190Z"
   },
   {
    "duration": 241,
    "start_time": "2024-01-05T09:23:07.642Z"
   },
   {
    "duration": 19,
    "start_time": "2024-01-05T09:23:07.885Z"
   },
   {
    "duration": 33,
    "start_time": "2024-01-05T09:23:07.907Z"
   },
   {
    "duration": 3,
    "start_time": "2024-01-05T09:23:07.942Z"
   },
   {
    "duration": 12,
    "start_time": "2024-01-05T09:23:07.947Z"
   },
   {
    "duration": 11,
    "start_time": "2024-01-05T09:23:07.961Z"
   },
   {
    "duration": 16,
    "start_time": "2024-01-05T09:23:07.974Z"
   },
   {
    "duration": 39,
    "start_time": "2024-01-05T09:23:07.992Z"
   },
   {
    "duration": 21,
    "start_time": "2024-01-05T09:23:08.034Z"
   },
   {
    "duration": 27,
    "start_time": "2024-01-05T09:23:08.057Z"
   },
   {
    "duration": 89,
    "start_time": "2024-01-05T09:23:08.086Z"
   },
   {
    "duration": 96,
    "start_time": "2024-01-05T09:23:08.177Z"
   },
   {
    "duration": 70,
    "start_time": "2024-01-05T09:23:08.275Z"
   },
   {
    "duration": 44,
    "start_time": "2024-01-05T09:23:08.347Z"
   },
   {
    "duration": 2,
    "start_time": "2024-01-05T09:23:08.393Z"
   },
   {
    "duration": 7,
    "start_time": "2024-01-05T09:23:08.396Z"
   },
   {
    "duration": 18,
    "start_time": "2024-01-05T09:23:08.404Z"
   },
   {
    "duration": 10,
    "start_time": "2024-01-05T09:23:08.424Z"
   },
   {
    "duration": 71,
    "start_time": "2024-01-05T09:23:08.436Z"
   },
   {
    "duration": 0,
    "start_time": "2024-01-05T09:23:08.509Z"
   },
   {
    "duration": 0,
    "start_time": "2024-01-05T09:23:08.510Z"
   },
   {
    "duration": 0,
    "start_time": "2024-01-05T09:23:08.511Z"
   },
   {
    "duration": 0,
    "start_time": "2024-01-05T09:23:08.512Z"
   },
   {
    "duration": 0,
    "start_time": "2024-01-05T09:23:08.514Z"
   },
   {
    "duration": 0,
    "start_time": "2024-01-05T09:23:08.514Z"
   },
   {
    "duration": 0,
    "start_time": "2024-01-05T09:23:08.515Z"
   },
   {
    "duration": 0,
    "start_time": "2024-01-05T09:23:08.517Z"
   },
   {
    "duration": 0,
    "start_time": "2024-01-05T09:23:08.518Z"
   },
   {
    "duration": 0,
    "start_time": "2024-01-05T09:23:08.519Z"
   },
   {
    "duration": 0,
    "start_time": "2024-01-05T09:23:08.520Z"
   },
   {
    "duration": 0,
    "start_time": "2024-01-05T09:23:08.520Z"
   },
   {
    "duration": 0,
    "start_time": "2024-01-05T09:23:08.522Z"
   },
   {
    "duration": 0,
    "start_time": "2024-01-05T09:23:08.523Z"
   },
   {
    "duration": 0,
    "start_time": "2024-01-05T09:23:08.524Z"
   },
   {
    "duration": 0,
    "start_time": "2024-01-05T09:23:08.525Z"
   },
   {
    "duration": 0,
    "start_time": "2024-01-05T09:23:08.526Z"
   },
   {
    "duration": 0,
    "start_time": "2024-01-05T09:23:08.527Z"
   },
   {
    "duration": 14,
    "start_time": "2024-01-05T10:24:02.428Z"
   },
   {
    "duration": 11,
    "start_time": "2024-01-05T10:24:06.967Z"
   },
   {
    "duration": 51,
    "start_time": "2024-01-05T10:24:24.523Z"
   },
   {
    "duration": 21,
    "start_time": "2024-01-05T10:24:28.427Z"
   },
   {
    "duration": 3,
    "start_time": "2024-01-05T10:24:45.004Z"
   },
   {
    "duration": 246,
    "start_time": "2024-01-05T10:24:45.009Z"
   },
   {
    "duration": 13,
    "start_time": "2024-01-05T10:24:45.257Z"
   },
   {
    "duration": 43,
    "start_time": "2024-01-05T10:24:45.272Z"
   },
   {
    "duration": 3,
    "start_time": "2024-01-05T10:24:45.328Z"
   },
   {
    "duration": 25,
    "start_time": "2024-01-05T10:24:45.332Z"
   },
   {
    "duration": 30,
    "start_time": "2024-01-05T10:24:45.359Z"
   },
   {
    "duration": 52,
    "start_time": "2024-01-05T10:24:45.391Z"
   },
   {
    "duration": 44,
    "start_time": "2024-01-05T10:24:45.444Z"
   },
   {
    "duration": 26,
    "start_time": "2024-01-05T10:24:45.490Z"
   },
   {
    "duration": 40,
    "start_time": "2024-01-05T10:24:45.519Z"
   },
   {
    "duration": 93,
    "start_time": "2024-01-05T10:24:45.562Z"
   },
   {
    "duration": 95,
    "start_time": "2024-01-05T10:24:45.657Z"
   },
   {
    "duration": 79,
    "start_time": "2024-01-05T10:24:45.754Z"
   },
   {
    "duration": 49,
    "start_time": "2024-01-05T10:24:45.835Z"
   },
   {
    "duration": 14,
    "start_time": "2024-01-05T10:24:45.886Z"
   },
   {
    "duration": 59,
    "start_time": "2024-01-05T10:24:45.923Z"
   },
   {
    "duration": 11,
    "start_time": "2024-01-05T10:24:45.984Z"
   },
   {
    "duration": 3,
    "start_time": "2024-01-05T10:24:45.996Z"
   },
   {
    "duration": 104,
    "start_time": "2024-01-05T10:24:46.024Z"
   },
   {
    "duration": 0,
    "start_time": "2024-01-05T10:24:46.132Z"
   },
   {
    "duration": 0,
    "start_time": "2024-01-05T10:24:46.134Z"
   },
   {
    "duration": 0,
    "start_time": "2024-01-05T10:24:46.135Z"
   },
   {
    "duration": 0,
    "start_time": "2024-01-05T10:24:46.136Z"
   },
   {
    "duration": 0,
    "start_time": "2024-01-05T10:24:46.138Z"
   },
   {
    "duration": 0,
    "start_time": "2024-01-05T10:24:46.141Z"
   },
   {
    "duration": 0,
    "start_time": "2024-01-05T10:24:46.143Z"
   },
   {
    "duration": 0,
    "start_time": "2024-01-05T10:24:46.145Z"
   },
   {
    "duration": 0,
    "start_time": "2024-01-05T10:24:46.146Z"
   },
   {
    "duration": 0,
    "start_time": "2024-01-05T10:24:46.148Z"
   },
   {
    "duration": 0,
    "start_time": "2024-01-05T10:24:46.149Z"
   },
   {
    "duration": 0,
    "start_time": "2024-01-05T10:24:46.150Z"
   },
   {
    "duration": 0,
    "start_time": "2024-01-05T10:24:46.152Z"
   },
   {
    "duration": 0,
    "start_time": "2024-01-05T10:24:46.152Z"
   },
   {
    "duration": 0,
    "start_time": "2024-01-05T10:24:46.154Z"
   },
   {
    "duration": 0,
    "start_time": "2024-01-05T10:24:46.155Z"
   },
   {
    "duration": 0,
    "start_time": "2024-01-05T10:24:46.156Z"
   },
   {
    "duration": 0,
    "start_time": "2024-01-05T10:24:46.157Z"
   },
   {
    "duration": 3,
    "start_time": "2024-01-05T13:12:36.331Z"
   },
   {
    "duration": 218,
    "start_time": "2024-01-05T13:12:36.336Z"
   },
   {
    "duration": 11,
    "start_time": "2024-01-05T13:12:36.556Z"
   },
   {
    "duration": 35,
    "start_time": "2024-01-05T13:12:36.569Z"
   },
   {
    "duration": 17,
    "start_time": "2024-01-05T13:12:36.606Z"
   },
   {
    "duration": 5,
    "start_time": "2024-01-05T13:12:36.624Z"
   },
   {
    "duration": 16,
    "start_time": "2024-01-05T13:12:36.631Z"
   },
   {
    "duration": 4,
    "start_time": "2024-01-05T13:12:36.650Z"
   },
   {
    "duration": 30,
    "start_time": "2024-01-05T13:12:36.656Z"
   },
   {
    "duration": 57,
    "start_time": "2024-01-05T13:12:36.688Z"
   },
   {
    "duration": 29,
    "start_time": "2024-01-05T13:12:36.747Z"
   },
   {
    "duration": 88,
    "start_time": "2024-01-05T13:12:36.777Z"
   },
   {
    "duration": 85,
    "start_time": "2024-01-05T13:12:36.867Z"
   },
   {
    "duration": 82,
    "start_time": "2024-01-05T13:12:36.954Z"
   },
   {
    "duration": 46,
    "start_time": "2024-01-05T13:12:37.038Z"
   },
   {
    "duration": 13,
    "start_time": "2024-01-05T13:12:37.086Z"
   },
   {
    "duration": 76,
    "start_time": "2024-01-05T13:12:37.101Z"
   },
   {
    "duration": 14,
    "start_time": "2024-01-05T13:12:37.179Z"
   },
   {
    "duration": 34,
    "start_time": "2024-01-05T13:12:37.195Z"
   },
   {
    "duration": 3,
    "start_time": "2024-01-05T13:12:37.231Z"
   },
   {
    "duration": 4,
    "start_time": "2024-01-05T13:12:37.235Z"
   },
   {
    "duration": 3,
    "start_time": "2024-01-05T13:12:37.240Z"
   },
   {
    "duration": 5,
    "start_time": "2024-01-05T13:12:37.245Z"
   },
   {
    "duration": 2,
    "start_time": "2024-01-05T13:12:37.254Z"
   },
   {
    "duration": 26,
    "start_time": "2024-01-05T13:12:37.257Z"
   },
   {
    "duration": 8,
    "start_time": "2024-01-05T13:12:37.285Z"
   },
   {
    "duration": 12,
    "start_time": "2024-01-05T13:12:37.294Z"
   },
   {
    "duration": 14,
    "start_time": "2024-01-05T13:12:37.308Z"
   },
   {
    "duration": 4,
    "start_time": "2024-01-05T13:12:37.324Z"
   },
   {
    "duration": 75,
    "start_time": "2024-01-05T13:12:37.329Z"
   },
   {
    "duration": 0,
    "start_time": "2024-01-05T13:12:37.406Z"
   },
   {
    "duration": 0,
    "start_time": "2024-01-05T13:12:37.407Z"
   },
   {
    "duration": 0,
    "start_time": "2024-01-05T13:12:37.408Z"
   },
   {
    "duration": 0,
    "start_time": "2024-01-05T13:12:37.409Z"
   },
   {
    "duration": 0,
    "start_time": "2024-01-05T13:12:37.410Z"
   },
   {
    "duration": 0,
    "start_time": "2024-01-05T13:12:37.411Z"
   },
   {
    "duration": 0,
    "start_time": "2024-01-05T13:12:37.412Z"
   },
   {
    "duration": 0,
    "start_time": "2024-01-05T13:12:37.413Z"
   },
   {
    "duration": 3,
    "start_time": "2024-01-05T13:22:00.640Z"
   },
   {
    "duration": 4,
    "start_time": "2024-01-05T13:22:05.650Z"
   },
   {
    "duration": 3,
    "start_time": "2024-01-05T13:25:48.960Z"
   },
   {
    "duration": 192,
    "start_time": "2024-01-05T13:25:48.965Z"
   },
   {
    "duration": 11,
    "start_time": "2024-01-05T13:25:49.159Z"
   },
   {
    "duration": 64,
    "start_time": "2024-01-05T13:25:49.173Z"
   },
   {
    "duration": 2,
    "start_time": "2024-01-05T13:25:49.239Z"
   },
   {
    "duration": 7,
    "start_time": "2024-01-05T13:25:49.243Z"
   },
   {
    "duration": 6,
    "start_time": "2024-01-05T13:25:49.251Z"
   },
   {
    "duration": 3,
    "start_time": "2024-01-05T13:25:49.259Z"
   },
   {
    "duration": 32,
    "start_time": "2024-01-05T13:25:49.264Z"
   },
   {
    "duration": 43,
    "start_time": "2024-01-05T13:25:49.297Z"
   },
   {
    "duration": 28,
    "start_time": "2024-01-05T13:25:49.342Z"
   },
   {
    "duration": 86,
    "start_time": "2024-01-05T13:25:49.372Z"
   },
   {
    "duration": 97,
    "start_time": "2024-01-05T13:25:49.459Z"
   },
   {
    "duration": 65,
    "start_time": "2024-01-05T13:25:49.558Z"
   },
   {
    "duration": 45,
    "start_time": "2024-01-05T13:25:49.625Z"
   },
   {
    "duration": 12,
    "start_time": "2024-01-05T13:25:49.672Z"
   },
   {
    "duration": 67,
    "start_time": "2024-01-05T13:25:49.686Z"
   },
   {
    "duration": 14,
    "start_time": "2024-01-05T13:25:49.755Z"
   },
   {
    "duration": 13,
    "start_time": "2024-01-05T13:25:49.770Z"
   },
   {
    "duration": 7,
    "start_time": "2024-01-05T14:14:05.741Z"
   },
   {
    "duration": 17,
    "start_time": "2024-01-05T14:17:28.920Z"
   },
   {
    "duration": 11,
    "start_time": "2024-01-05T14:17:31.550Z"
   },
   {
    "duration": 11,
    "start_time": "2024-01-05T14:17:33.310Z"
   },
   {
    "duration": 11,
    "start_time": "2024-01-05T14:23:12.342Z"
   },
   {
    "duration": 2,
    "start_time": "2024-01-05T14:23:15.234Z"
   },
   {
    "duration": 223,
    "start_time": "2024-01-05T14:23:15.238Z"
   },
   {
    "duration": 11,
    "start_time": "2024-01-05T14:23:15.463Z"
   },
   {
    "duration": 58,
    "start_time": "2024-01-05T14:23:15.475Z"
   },
   {
    "duration": 21,
    "start_time": "2024-01-05T14:23:15.535Z"
   },
   {
    "duration": 13,
    "start_time": "2024-01-05T14:23:15.558Z"
   },
   {
    "duration": 8,
    "start_time": "2024-01-05T14:23:15.572Z"
   },
   {
    "duration": 3,
    "start_time": "2024-01-05T14:23:15.582Z"
   },
   {
    "duration": 49,
    "start_time": "2024-01-05T14:23:15.587Z"
   },
   {
    "duration": 19,
    "start_time": "2024-01-05T14:23:15.638Z"
   },
   {
    "duration": 27,
    "start_time": "2024-01-05T14:23:15.659Z"
   },
   {
    "duration": 78,
    "start_time": "2024-01-05T14:23:15.688Z"
   },
   {
    "duration": 95,
    "start_time": "2024-01-05T14:23:15.768Z"
   },
   {
    "duration": 69,
    "start_time": "2024-01-05T14:23:15.866Z"
   },
   {
    "duration": 44,
    "start_time": "2024-01-05T14:23:15.937Z"
   },
   {
    "duration": 12,
    "start_time": "2024-01-05T14:23:15.982Z"
   },
   {
    "duration": 70,
    "start_time": "2024-01-05T14:23:15.995Z"
   },
   {
    "duration": 13,
    "start_time": "2024-01-05T14:23:16.067Z"
   },
   {
    "duration": 14,
    "start_time": "2024-01-05T14:23:16.081Z"
   },
   {
    "duration": 3,
    "start_time": "2024-01-05T14:23:16.096Z"
   },
   {
    "duration": 61,
    "start_time": "2024-01-05T14:23:16.100Z"
   },
   {
    "duration": 20,
    "start_time": "2024-01-05T14:23:16.163Z"
   },
   {
    "duration": 54,
    "start_time": "2024-01-05T14:23:16.185Z"
   },
   {
    "duration": 19,
    "start_time": "2024-01-05T14:23:16.240Z"
   },
   {
    "duration": 27,
    "start_time": "2024-01-05T14:23:16.261Z"
   },
   {
    "duration": 19,
    "start_time": "2024-01-05T14:23:16.289Z"
   },
   {
    "duration": 13,
    "start_time": "2024-01-05T14:23:16.322Z"
   },
   {
    "duration": 24,
    "start_time": "2024-01-05T14:23:16.337Z"
   },
   {
    "duration": 11,
    "start_time": "2024-01-05T14:23:16.362Z"
   },
   {
    "duration": 87,
    "start_time": "2024-01-07T10:55:21.255Z"
   },
   {
    "duration": 3,
    "start_time": "2024-01-07T10:55:29.247Z"
   },
   {
    "duration": 3,
    "start_time": "2024-01-07T10:55:31.387Z"
   },
   {
    "duration": 4,
    "start_time": "2024-01-07T11:17:38.436Z"
   },
   {
    "duration": 4,
    "start_time": "2024-01-07T11:17:41.362Z"
   },
   {
    "duration": 466,
    "start_time": "2024-01-07T11:34:46.830Z"
   },
   {
    "duration": 258,
    "start_time": "2024-01-07T11:34:47.298Z"
   },
   {
    "duration": 18,
    "start_time": "2024-01-07T11:34:47.557Z"
   },
   {
    "duration": 35,
    "start_time": "2024-01-07T11:34:47.577Z"
   },
   {
    "duration": 8,
    "start_time": "2024-01-07T11:34:47.614Z"
   },
   {
    "duration": 22,
    "start_time": "2024-01-07T11:34:47.624Z"
   },
   {
    "duration": 34,
    "start_time": "2024-01-07T11:34:47.647Z"
   },
   {
    "duration": 17,
    "start_time": "2024-01-07T11:34:47.683Z"
   },
   {
    "duration": 42,
    "start_time": "2024-01-07T11:34:47.701Z"
   },
   {
    "duration": 21,
    "start_time": "2024-01-07T11:34:47.746Z"
   },
   {
    "duration": 27,
    "start_time": "2024-01-07T11:34:47.769Z"
   },
   {
    "duration": 79,
    "start_time": "2024-01-07T11:34:47.798Z"
   },
   {
    "duration": 96,
    "start_time": "2024-01-07T11:34:47.879Z"
   },
   {
    "duration": 70,
    "start_time": "2024-01-07T11:34:47.977Z"
   },
   {
    "duration": 47,
    "start_time": "2024-01-07T11:34:48.048Z"
   },
   {
    "duration": 26,
    "start_time": "2024-01-07T11:34:48.097Z"
   },
   {
    "duration": 51,
    "start_time": "2024-01-07T11:34:48.125Z"
   },
   {
    "duration": 13,
    "start_time": "2024-01-07T11:34:48.178Z"
   },
   {
    "duration": 34,
    "start_time": "2024-01-07T11:34:48.193Z"
   },
   {
    "duration": 3,
    "start_time": "2024-01-07T11:34:48.229Z"
   },
   {
    "duration": 27,
    "start_time": "2024-01-07T11:34:48.233Z"
   },
   {
    "duration": 18,
    "start_time": "2024-01-07T11:34:48.262Z"
   },
   {
    "duration": 41,
    "start_time": "2024-01-07T11:34:48.282Z"
   },
   {
    "duration": 18,
    "start_time": "2024-01-07T11:34:48.325Z"
   },
   {
    "duration": 21,
    "start_time": "2024-01-07T11:34:48.345Z"
   },
   {
    "duration": 18,
    "start_time": "2024-01-07T11:34:48.368Z"
   },
   {
    "duration": 6,
    "start_time": "2024-01-07T11:34:48.422Z"
   },
   {
    "duration": 17,
    "start_time": "2024-01-07T11:34:48.432Z"
   },
   {
    "duration": 24,
    "start_time": "2024-01-07T11:34:48.451Z"
   },
   {
    "duration": 74,
    "start_time": "2024-01-07T11:34:48.477Z"
   },
   {
    "duration": 0,
    "start_time": "2024-01-07T11:34:48.552Z"
   },
   {
    "duration": 0,
    "start_time": "2024-01-07T11:34:48.553Z"
   },
   {
    "duration": 0,
    "start_time": "2024-01-07T11:34:48.555Z"
   },
   {
    "duration": 0,
    "start_time": "2024-01-07T11:34:48.556Z"
   },
   {
    "duration": 0,
    "start_time": "2024-01-07T11:34:48.558Z"
   },
   {
    "duration": 0,
    "start_time": "2024-01-07T11:34:48.559Z"
   },
   {
    "duration": 0,
    "start_time": "2024-01-07T11:34:48.561Z"
   },
   {
    "duration": 0,
    "start_time": "2024-01-07T11:34:48.562Z"
   },
   {
    "duration": 3,
    "start_time": "2024-01-07T11:35:22.470Z"
   },
   {
    "duration": 3,
    "start_time": "2024-01-07T11:35:26.449Z"
   },
   {
    "duration": 197,
    "start_time": "2024-01-07T11:35:26.454Z"
   },
   {
    "duration": 12,
    "start_time": "2024-01-07T11:35:26.653Z"
   },
   {
    "duration": 33,
    "start_time": "2024-01-07T11:35:26.668Z"
   },
   {
    "duration": 3,
    "start_time": "2024-01-07T11:35:26.722Z"
   },
   {
    "duration": 7,
    "start_time": "2024-01-07T11:35:26.727Z"
   },
   {
    "duration": 13,
    "start_time": "2024-01-07T11:35:26.736Z"
   },
   {
    "duration": 7,
    "start_time": "2024-01-07T11:35:26.751Z"
   },
   {
    "duration": 30,
    "start_time": "2024-01-07T11:35:26.761Z"
   },
   {
    "duration": 44,
    "start_time": "2024-01-07T11:35:26.792Z"
   },
   {
    "duration": 29,
    "start_time": "2024-01-07T11:35:26.838Z"
   },
   {
    "duration": 86,
    "start_time": "2024-01-07T11:35:26.868Z"
   },
   {
    "duration": 84,
    "start_time": "2024-01-07T11:35:26.956Z"
   },
   {
    "duration": 63,
    "start_time": "2024-01-07T11:35:27.042Z"
   },
   {
    "duration": 55,
    "start_time": "2024-01-07T11:35:27.107Z"
   },
   {
    "duration": 12,
    "start_time": "2024-01-07T11:35:27.164Z"
   },
   {
    "duration": 63,
    "start_time": "2024-01-07T11:35:27.178Z"
   },
   {
    "duration": 15,
    "start_time": "2024-01-07T11:35:27.243Z"
   },
   {
    "duration": 13,
    "start_time": "2024-01-07T11:35:27.259Z"
   },
   {
    "duration": 3,
    "start_time": "2024-01-07T11:35:27.273Z"
   },
   {
    "duration": 45,
    "start_time": "2024-01-07T11:35:27.277Z"
   },
   {
    "duration": 19,
    "start_time": "2024-01-07T11:35:27.324Z"
   },
   {
    "duration": 20,
    "start_time": "2024-01-07T11:35:27.345Z"
   },
   {
    "duration": 19,
    "start_time": "2024-01-07T11:35:27.370Z"
   },
   {
    "duration": 22,
    "start_time": "2024-01-07T11:35:27.423Z"
   },
   {
    "duration": 20,
    "start_time": "2024-01-07T11:35:27.447Z"
   },
   {
    "duration": 9,
    "start_time": "2024-01-07T11:35:27.469Z"
   },
   {
    "duration": 56,
    "start_time": "2024-01-07T11:35:27.481Z"
   },
   {
    "duration": 13,
    "start_time": "2024-01-07T11:35:27.540Z"
   },
   {
    "duration": 4,
    "start_time": "2024-01-07T11:35:27.554Z"
   },
   {
    "duration": 13,
    "start_time": "2024-01-07T11:35:27.560Z"
   },
   {
    "duration": 15,
    "start_time": "2024-01-07T11:35:27.575Z"
   },
   {
    "duration": 5,
    "start_time": "2024-01-07T11:35:27.592Z"
   },
   {
    "duration": 9,
    "start_time": "2024-01-07T11:35:27.599Z"
   },
   {
    "duration": 3,
    "start_time": "2024-01-07T11:35:27.610Z"
   },
   {
    "duration": 15,
    "start_time": "2024-01-07T11:35:27.614Z"
   },
   {
    "duration": 14,
    "start_time": "2024-01-07T11:35:27.631Z"
   },
   {
    "duration": 15,
    "start_time": "2024-01-07T11:35:27.647Z"
   },
   {
    "duration": 4,
    "start_time": "2024-01-07T11:35:31.291Z"
   },
   {
    "duration": 4,
    "start_time": "2024-01-07T11:35:57.698Z"
   },
   {
    "duration": 4,
    "start_time": "2024-01-07T11:36:02.249Z"
   },
   {
    "duration": 4,
    "start_time": "2024-01-07T11:42:49.216Z"
   },
   {
    "duration": 3,
    "start_time": "2024-01-07T11:46:54.923Z"
   },
   {
    "duration": 193,
    "start_time": "2024-01-07T11:46:54.929Z"
   },
   {
    "duration": 12,
    "start_time": "2024-01-07T11:46:55.124Z"
   },
   {
    "duration": 43,
    "start_time": "2024-01-07T11:46:55.137Z"
   },
   {
    "duration": 3,
    "start_time": "2024-01-07T11:46:55.182Z"
   },
   {
    "duration": 12,
    "start_time": "2024-01-07T11:46:55.187Z"
   },
   {
    "duration": 21,
    "start_time": "2024-01-07T11:46:55.201Z"
   },
   {
    "duration": 3,
    "start_time": "2024-01-07T11:46:55.224Z"
   },
   {
    "duration": 38,
    "start_time": "2024-01-07T11:46:55.229Z"
   },
   {
    "duration": 19,
    "start_time": "2024-01-07T11:46:55.269Z"
   },
   {
    "duration": 46,
    "start_time": "2024-01-07T11:46:55.291Z"
   },
   {
    "duration": 87,
    "start_time": "2024-01-07T11:46:55.339Z"
   },
   {
    "duration": 98,
    "start_time": "2024-01-07T11:46:55.428Z"
   },
   {
    "duration": 61,
    "start_time": "2024-01-07T11:46:55.528Z"
   },
   {
    "duration": 79,
    "start_time": "2024-01-07T11:46:55.591Z"
   },
   {
    "duration": 19,
    "start_time": "2024-01-07T11:46:55.672Z"
   },
   {
    "duration": 67,
    "start_time": "2024-01-07T11:46:55.693Z"
   },
   {
    "duration": 13,
    "start_time": "2024-01-07T11:46:55.762Z"
   },
   {
    "duration": 32,
    "start_time": "2024-01-07T11:46:55.777Z"
   },
   {
    "duration": 10,
    "start_time": "2024-01-07T11:46:55.811Z"
   },
   {
    "duration": 24,
    "start_time": "2024-01-07T11:46:55.823Z"
   },
   {
    "duration": 19,
    "start_time": "2024-01-07T11:46:55.850Z"
   },
   {
    "duration": 19,
    "start_time": "2024-01-07T11:46:55.871Z"
   },
   {
    "duration": 43,
    "start_time": "2024-01-07T11:46:55.891Z"
   },
   {
    "duration": 21,
    "start_time": "2024-01-07T11:46:55.936Z"
   },
   {
    "duration": 20,
    "start_time": "2024-01-07T11:46:55.959Z"
   },
   {
    "duration": 8,
    "start_time": "2024-01-07T11:46:55.981Z"
   },
   {
    "duration": 25,
    "start_time": "2024-01-07T11:46:56.023Z"
   },
   {
    "duration": 11,
    "start_time": "2024-01-07T11:46:56.052Z"
   },
   {
    "duration": 5,
    "start_time": "2024-01-07T11:46:56.064Z"
   },
   {
    "duration": 6,
    "start_time": "2024-01-07T11:46:56.070Z"
   },
   {
    "duration": 4,
    "start_time": "2024-01-07T11:46:56.078Z"
   },
   {
    "duration": 4,
    "start_time": "2024-01-07T11:46:56.084Z"
   },
   {
    "duration": 10,
    "start_time": "2024-01-07T11:46:56.089Z"
   },
   {
    "duration": 14,
    "start_time": "2024-01-07T11:46:56.101Z"
   },
   {
    "duration": 15,
    "start_time": "2024-01-07T11:46:56.117Z"
   },
   {
    "duration": 5,
    "start_time": "2024-01-07T11:46:56.133Z"
   },
   {
    "duration": 4,
    "start_time": "2024-01-07T11:46:56.140Z"
   },
   {
    "duration": 3,
    "start_time": "2024-01-07T11:46:59.858Z"
   },
   {
    "duration": 200,
    "start_time": "2024-01-07T11:46:59.863Z"
   },
   {
    "duration": 12,
    "start_time": "2024-01-07T11:47:00.065Z"
   },
   {
    "duration": 77,
    "start_time": "2024-01-07T11:47:00.079Z"
   },
   {
    "duration": 40,
    "start_time": "2024-01-07T11:47:00.159Z"
   },
   {
    "duration": 64,
    "start_time": "2024-01-07T11:47:00.201Z"
   },
   {
    "duration": 66,
    "start_time": "2024-01-07T11:47:00.266Z"
   },
   {
    "duration": 30,
    "start_time": "2024-01-07T11:47:00.334Z"
   },
   {
    "duration": 64,
    "start_time": "2024-01-07T11:47:00.366Z"
   },
   {
    "duration": 44,
    "start_time": "2024-01-07T11:47:00.432Z"
   },
   {
    "duration": 64,
    "start_time": "2024-01-07T11:47:00.480Z"
   },
   {
    "duration": 112,
    "start_time": "2024-01-07T11:47:00.546Z"
   },
   {
    "duration": 100,
    "start_time": "2024-01-07T11:47:00.660Z"
   },
   {
    "duration": 73,
    "start_time": "2024-01-07T11:47:00.762Z"
   },
   {
    "duration": 72,
    "start_time": "2024-01-07T11:47:00.837Z"
   },
   {
    "duration": 22,
    "start_time": "2024-01-07T11:47:00.910Z"
   },
   {
    "duration": 78,
    "start_time": "2024-01-07T11:47:00.933Z"
   },
   {
    "duration": 12,
    "start_time": "2024-01-07T11:47:01.013Z"
   },
   {
    "duration": 23,
    "start_time": "2024-01-07T11:47:01.027Z"
   },
   {
    "duration": 58,
    "start_time": "2024-01-07T11:47:01.051Z"
   },
   {
    "duration": 44,
    "start_time": "2024-01-07T11:47:01.111Z"
   },
   {
    "duration": 20,
    "start_time": "2024-01-07T11:47:01.157Z"
   },
   {
    "duration": 22,
    "start_time": "2024-01-07T11:47:01.179Z"
   },
   {
    "duration": 34,
    "start_time": "2024-01-07T11:47:01.203Z"
   },
   {
    "duration": 36,
    "start_time": "2024-01-07T11:47:01.240Z"
   },
   {
    "duration": 50,
    "start_time": "2024-01-07T11:47:01.278Z"
   },
   {
    "duration": 10,
    "start_time": "2024-01-07T11:47:01.330Z"
   },
   {
    "duration": 21,
    "start_time": "2024-01-07T11:47:01.342Z"
   },
   {
    "duration": 11,
    "start_time": "2024-01-07T11:47:01.366Z"
   },
   {
    "duration": 25,
    "start_time": "2024-01-07T11:47:01.379Z"
   },
   {
    "duration": 8,
    "start_time": "2024-01-07T11:47:01.405Z"
   },
   {
    "duration": 25,
    "start_time": "2024-01-07T11:47:01.415Z"
   },
   {
    "duration": 12,
    "start_time": "2024-01-07T11:47:01.442Z"
   },
   {
    "duration": 8,
    "start_time": "2024-01-07T11:47:01.456Z"
   },
   {
    "duration": 20,
    "start_time": "2024-01-07T11:47:01.466Z"
   },
   {
    "duration": 10,
    "start_time": "2024-01-07T11:47:01.489Z"
   },
   {
    "duration": 6,
    "start_time": "2024-01-07T11:47:01.501Z"
   },
   {
    "duration": 9,
    "start_time": "2024-01-07T11:47:01.510Z"
   },
   {
    "duration": 438,
    "start_time": "2025-01-10T07:58:17.439Z"
   },
   {
    "duration": 454,
    "start_time": "2025-01-10T07:58:17.879Z"
   },
   {
    "duration": 19,
    "start_time": "2025-01-10T07:58:18.335Z"
   },
   {
    "duration": 52,
    "start_time": "2025-01-10T07:58:18.356Z"
   },
   {
    "duration": 2,
    "start_time": "2025-01-10T07:58:18.410Z"
   },
   {
    "duration": 6,
    "start_time": "2025-01-10T07:58:18.414Z"
   },
   {
    "duration": 113,
    "start_time": "2025-01-10T07:58:18.421Z"
   },
   {
    "duration": 10,
    "start_time": "2025-01-10T07:58:18.536Z"
   },
   {
    "duration": 29,
    "start_time": "2025-01-10T07:58:18.548Z"
   },
   {
    "duration": 35,
    "start_time": "2025-01-10T07:58:18.580Z"
   },
   {
    "duration": 28,
    "start_time": "2025-01-10T07:58:18.617Z"
   },
   {
    "duration": 67,
    "start_time": "2025-01-10T07:58:18.647Z"
   },
   {
    "duration": 95,
    "start_time": "2025-01-10T07:58:18.716Z"
   },
   {
    "duration": 74,
    "start_time": "2025-01-10T07:58:18.812Z"
   },
   {
    "duration": 45,
    "start_time": "2025-01-10T07:58:18.888Z"
   },
   {
    "duration": 12,
    "start_time": "2025-01-10T07:58:18.935Z"
   },
   {
    "duration": 61,
    "start_time": "2025-01-10T07:58:18.949Z"
   },
   {
    "duration": 17,
    "start_time": "2025-01-10T07:58:19.011Z"
   },
   {
    "duration": 13,
    "start_time": "2025-01-10T07:58:19.029Z"
   },
   {
    "duration": 3,
    "start_time": "2025-01-10T07:58:19.044Z"
   },
   {
    "duration": 27,
    "start_time": "2025-01-10T07:58:19.070Z"
   },
   {
    "duration": 18,
    "start_time": "2025-01-10T07:58:19.098Z"
   },
   {
    "duration": 19,
    "start_time": "2025-01-10T07:58:19.118Z"
   },
   {
    "duration": 44,
    "start_time": "2025-01-10T07:58:19.139Z"
   },
   {
    "duration": 22,
    "start_time": "2025-01-10T07:58:19.184Z"
   },
   {
    "duration": 22,
    "start_time": "2025-01-10T07:58:19.207Z"
   },
   {
    "duration": 7,
    "start_time": "2025-01-10T07:58:19.231Z"
   },
   {
    "duration": 39,
    "start_time": "2025-01-10T07:58:19.241Z"
   },
   {
    "duration": 10,
    "start_time": "2025-01-10T07:58:19.281Z"
   },
   {
    "duration": 9,
    "start_time": "2025-01-10T07:58:19.292Z"
   },
   {
    "duration": 39,
    "start_time": "2025-01-10T07:58:19.303Z"
   },
   {
    "duration": 11,
    "start_time": "2025-01-10T07:58:19.344Z"
   },
   {
    "duration": 33,
    "start_time": "2025-01-10T07:58:19.356Z"
   },
   {
    "duration": 12,
    "start_time": "2025-01-10T07:58:19.391Z"
   },
   {
    "duration": 9,
    "start_time": "2025-01-10T07:58:19.404Z"
   },
   {
    "duration": 5,
    "start_time": "2025-01-10T07:58:19.414Z"
   },
   {
    "duration": 9,
    "start_time": "2025-01-10T07:58:19.421Z"
   },
   {
    "duration": 4,
    "start_time": "2025-01-10T07:58:19.432Z"
   },
   {
    "duration": 2,
    "start_time": "2025-01-10T07:59:04.727Z"
   }
  ],
  "celltoolbar": "Отсутствует",
  "colab": {
   "collapsed_sections": [
    "E0vqbgi9ay0H",
    "VUC88oWjTJw2"
   ],
   "provenance": []
  },
  "kernelspec": {
   "display_name": "Python 3 (ipykernel)",
   "language": "python",
   "name": "python3"
  },
  "language_info": {
   "codemirror_mode": {
    "name": "ipython",
    "version": 3
   },
   "file_extension": ".py",
   "mimetype": "text/x-python",
   "name": "python",
   "nbconvert_exporter": "python",
   "pygments_lexer": "ipython3",
   "version": "3.9.5"
  },
  "toc": {
   "base_numbering": 1,
   "nav_menu": {
    "height": "215px",
    "width": "403px"
   },
   "number_sections": true,
   "sideBar": true,
   "skip_h1_title": true,
   "title_cell": "Table of Contents",
   "title_sidebar": "Contents",
   "toc_cell": false,
   "toc_position": {
    "height": "calc(100% - 180px)",
    "left": "10px",
    "top": "150px",
    "width": "285.825px"
   },
   "toc_section_display": true,
   "toc_window_display": false
  }
 },
 "nbformat": 4,
 "nbformat_minor": 1
}
